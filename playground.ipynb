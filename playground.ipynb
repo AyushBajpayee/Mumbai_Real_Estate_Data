{
 "cells": [
  {
   "cell_type": "markdown",
   "metadata": {},
   "source": [
    "# 1ST PART"
   ]
  },
  {
   "cell_type": "code",
   "execution_count": 1,
   "metadata": {},
   "outputs": [
    {
     "name": "stderr",
     "output_type": "stream",
     "text": [
      "c:\\Users\\ayush\\anaconda3\\envs\\morph\\lib\\site-packages\\pyspark\\pandas\\__init__.py:50: UserWarning: 'PYARROW_IGNORE_TIMEZONE' environment variable was not set. It is required to set this environment variable to '1' in both driver and executor sides if you use pyarrow>=2.0.0. pandas-on-Spark will set it for you but it does not work if there is a Spark context already launched.\n",
      "  warnings.warn(\n"
     ]
    }
   ],
   "source": [
    "#imports\n",
    "from selenium import webdriver \n",
    "from selenium.webdriver.chrome.service import Service as ChromeService \n",
    "from webdriver_manager.chrome import ChromeDriverManager\n",
    "from selenium.webdriver.support.ui import WebDriverWait\n",
    "from selenium.webdriver.support import expected_conditions as EC\n",
    "from selenium.webdriver.common.selenium_manager import SeleniumManager \n",
    "from selenium.webdriver.common.by import By\n",
    "from selenium.webdriver.support.ui import Select\n",
    "from time import sleep\n",
    "from googletrans import Translator\n",
    "from google_trans_new import google_translator  \n",
    "from deep_translator import GoogleTranslator\n",
    "import os\n",
    "from bs4 import BeautifulSoup\n",
    "import numpy as np\n",
    "import pandas as pd\n",
    "import pandas as pd\n",
    "from sqlalchemy import create_engine\n",
    "import warnings\n",
    "import sys\n",
    "from pyspark.sql import SparkSession\n",
    "import pyspark.sql.functions as sf\n",
    "# from pyspark.sql.functions import col,udf,lit,split\n",
    "from pyspark.sql.types import IntegerType, StringType\n",
    "from tqdm import tqdm\n",
    "import pyspark.pandas as ps\n",
    "import pandas as pd\n",
    "import time\n",
    "import os\n",
    "import urllib.request\n",
    "import ssl\n",
    "ssl._create_default_https_context = ssl._create_unverified_context\n",
    "\n",
    "import warnings\n",
    "warnings.filterwarnings(\"ignore\")\n",
    "\n",
    "from tqdm import tqdm\n",
    "import pdfplumber\n",
    "\n",
    "import subprocess\n",
    "import pathlib\n",
    "import ghostscript as gs\n",
    "\n",
    "warnings.filterwarnings('ignore')"
   ]
  },
  {
   "cell_type": "code",
   "execution_count": 2,
   "metadata": {},
   "outputs": [],
   "source": [
    "#Functions\n",
    "def translator(s,source):\n",
    "    return GoogleTranslator(source=source, target='en').translate(s)\n",
    "\n",
    "\n",
    "def translator_v2(s,source='auto'):\n",
    "        translator = Translator()\n",
    "        return translator.translate(s, src='hi',dest='en').text if s != '' else 'null' \n",
    "\n",
    "translate_udf = sf.udf(translator_v2,StringType())"
   ]
  },
  {
   "cell_type": "code",
   "execution_count": 3,
   "metadata": {},
   "outputs": [
    {
     "name": "stdout",
     "output_type": "stream",
     "text": [
      "dbselect 2023\n",
      "Clicked 2023 for dbselect\n",
      "district_id मुंबई उपनगर\n",
      "Clicked मुंबई उपनगर for district_id\n",
      "taluka_id अंधेरी\n",
      "Clicked अंधेरी for taluka_id\n",
      "village_id बांद्रा\n",
      "Clicked बांद्रा for village_id\n",
      "Entered Captcha 9XVW1\n",
      "Set to All Records\n",
      "So Far, So Good\n"
     ]
    }
   ],
   "source": [
    "#selenium webdriver\n",
    "input_params_dropdown_by_id = {}\n",
    "input_params_dropdown_by_id['dbselect'] = '2023' #Select Year\n",
    "input_params_dropdown_by_id['district_id'] = 'मुंबई उपनगर' #District\n",
    "input_params_dropdown_by_id['taluka_id'] = 'अंधेरी' #Taluka\n",
    "input_params_dropdown_by_id['village_id'] = 'बांद्रा' #Village\n",
    "\n",
    "input_params_text_by_id = {}\n",
    "input_params_text_by_id['free_text'] = '2023' \n",
    "\n",
    "url = 'https://pay2igr.igrmaharashtra.gov.in/eDisplay/Propertydetails/index' \n",
    "driver = webdriver.Chrome() \n",
    "driver.implicitly_wait(10)\n",
    "driver.get(url)\n",
    "\n",
    "for key, value in input_params_dropdown_by_id.items():\n",
    "\tprint(key,value)\n",
    "\tdropdown = driver.find_element(by=By.ID,value=key)\n",
    "\tdropdown_select = Select(dropdown)\n",
    "\tfor option in dropdown_select.options:\n",
    "\t\tif option.text == value:\n",
    "\t\t\toption.click()\n",
    "\t\t\tprint(f'Clicked {option.text} for {key}')\n",
    "\t\t\tbreak\n",
    "\tdriver.implicitly_wait(2)\n",
    "\n",
    "#Input reg year\n",
    "driver.find_element(by=By.ID, value='free_text').send_keys(input_params_text_by_id['free_text'])\n",
    "driver.implicitly_wait(2)\n",
    "\n",
    "#Input Captcha\n",
    "captcha = input()\n",
    "driver.find_element(by=By.ID, value='cpatchaTextBox').send_keys(captcha)\n",
    "print(f'Entered Captcha {captcha}')\n",
    "driver.implicitly_wait(2)\n",
    "\n",
    "#Submit to get result set\n",
    "driver.find_element(by=By.ID,value='submit').click()\n",
    "driver.implicitly_wait(10)\n",
    "\n",
    "\n",
    "#Click on 50 Pages\n",
    "dropdown = driver.find_element(by=By.NAME, value='tableparty_length')\n",
    "dropdown_select = Select(dropdown)\n",
    "for option in dropdown_select.options:\n",
    "\tif option.text == 'All':\n",
    "\t\toption.click()\n",
    "\t\tprint('Set to All Records')\n",
    "\t\tbreak\n",
    "\n",
    "print('So Far, So Good')"
   ]
  },
  {
   "cell_type": "code",
   "execution_count": 4,
   "metadata": {},
   "outputs": [
    {
     "name": "stdout",
     "output_type": "stream",
     "text": [
      "Data Loading...\n"
     ]
    },
    {
     "name": "stderr",
     "output_type": "stream",
     "text": [
      "100%|██████████| 1209/1209 [03:17<00:00,  6.11it/s]"
     ]
    },
    {
     "name": "stdout",
     "output_type": "stream",
     "text": [
      "Finished!\n"
     ]
    },
    {
     "name": "stderr",
     "output_type": "stream",
     "text": [
      "\n"
     ]
    }
   ],
   "source": [
    "#scrap records\n",
    "records_raw = pd.DataFrame(columns=['अनु क्र.','दस्त क्र.','दस्त प्रकार','दू. नि. कार्यालय','वर्ष','लिहून देणार','लिहून घेणार','इतर माहीती','सूची क्र. २'])\n",
    "\n",
    "print('Data Loading...')\n",
    "for index, table in enumerate(tqdm(driver.find_elements(by=By.ID, value='tbdata'))):\n",
    "    data = [item.text if item.text != 'सूची क्र. २' else item.find_element(by=By.TAG_NAME,value='a').get_attribute('href') for item in table.find_elements(by=By.XPATH, value=\".//*[self::td or self::th]\")]\n",
    "    records_raw.loc[len(records_raw)] = data\n",
    "    # print(data)\n",
    "    # print(f'{index} Row appended',)\n",
    "\n",
    "print('Finished!')\n",
    "records_raw\n",
    "records_translate = records_raw.copy()"
   ]
  },
  {
   "cell_type": "code",
   "execution_count": 5,
   "metadata": {},
   "outputs": [
    {
     "name": "stdout",
     "output_type": "stream",
     "text": [
      "1209 DataFrame has been inserted into the 'record_details_raw' table.\n"
     ]
    }
   ],
   "source": [
    "# Insert Scraped Raw Data in postgres\n",
    "db_user = 'postgres'\n",
    "db_password = 'Sunrise12345'\n",
    "db_host = '127.0.0.1'\n",
    "db_port = '5432'\n",
    "db_name = 'propReturns'\n",
    "\n",
    "engine = create_engine(f'postgresql://{db_user}:{db_password}@{db_host}:{db_port}/{db_name}')\n",
    "table_name = 'record_details_raw'\n",
    "\n",
    "records_raw.to_sql(table_name, engine, if_exists='replace', index=True)\n",
    "\n",
    "print(f\"{len(records_raw)} DataFrame has been inserted into the '{table_name}' table.\")"
   ]
  },
  {
   "cell_type": "code",
   "execution_count": 6,
   "metadata": {},
   "outputs": [],
   "source": [
    "records_translate = records_raw.copy()\n",
    "records_translate.columns = [translator(col,source='auto') for col in records_translate.columns]\n",
    "cols_to_translate = [\n",
    "    'diarrhea type',\n",
    "    'Du. Prohibit. Office',\n",
    "    'Will write', \n",
    "    'Will write down', \n",
    "    'Other information'\n",
    "    ]"
   ]
  },
  {
   "cell_type": "code",
   "execution_count": 7,
   "metadata": {},
   "outputs": [
    {
     "data": {
      "text/plain": [
       "Index(['Sl no.', 'Diarrhea no.', 'diarrhea type', 'Du. Prohibit. Office',\n",
       "       'Year', 'Will write', 'Will write down', 'Other information',\n",
       "       'List no. 2'],\n",
       "      dtype='object')"
      ]
     },
     "execution_count": 7,
     "metadata": {},
     "output_type": "execute_result"
    }
   ],
   "source": [
    "records_translate.columns"
   ]
  },
  {
   "cell_type": "code",
   "execution_count": 8,
   "metadata": {},
   "outputs": [],
   "source": [
    "records_translate['to_translate'] = records_translate['diarrhea type'] + '__$__' \\\n",
    "                                    + records_translate['Du. Prohibit. Office'] + '__$__' \\\n",
    "                                    + records_translate['Will write'] + '__$__' \\\n",
    "                                    + records_translate['Will write down'] + '__$__' \\\n",
    "                                    + records_translate['Other information']  "
   ]
  },
  {
   "cell_type": "code",
   "execution_count": 9,
   "metadata": {},
   "outputs": [
    {
     "name": "stderr",
     "output_type": "stream",
     "text": [
      " 85%|████████▌ | 1033/1209 [04:45<00:48,  3.61it/s]\n"
     ]
    },
    {
     "ename": "ReadTimeout",
     "evalue": "The read operation timed out",
     "output_type": "error",
     "traceback": [
      "\u001b[1;31m---------------------------------------------------------------------------\u001b[0m",
      "\u001b[1;31mReadTimeout\u001b[0m                               Traceback (most recent call last)",
      "Cell \u001b[1;32mIn[9], line 7\u001b[0m\n\u001b[0;32m      4\u001b[0m \u001b[38;5;28;01mfor\u001b[39;00m batch \u001b[38;5;129;01min\u001b[39;00m tqdm(\u001b[38;5;28mrange\u001b[39m(start,\u001b[38;5;28mlen\u001b[39m(records_translate))):\n\u001b[0;32m      5\u001b[0m     \u001b[38;5;66;03m# print(f'Batch -> [{batch},{batch+batch_size}]')\u001b[39;00m\n\u001b[0;32m      6\u001b[0m     temp_df \u001b[38;5;241m=\u001b[39m records_translate\u001b[38;5;241m.\u001b[39miloc[batch:batch\u001b[38;5;241m+\u001b[39mbatch_size,:]\u001b[38;5;241m.\u001b[39mcopy()\n\u001b[1;32m----> 7\u001b[0m     temp_df[\u001b[38;5;124m'\u001b[39m\u001b[38;5;124mto_translate\u001b[39m\u001b[38;5;124m'\u001b[39m] \u001b[38;5;241m=\u001b[39m \u001b[43mtemp_df\u001b[49m\u001b[43m[\u001b[49m\u001b[38;5;124;43m'\u001b[39;49m\u001b[38;5;124;43mto_translate\u001b[39;49m\u001b[38;5;124;43m'\u001b[39;49m\u001b[43m]\u001b[49m\u001b[38;5;241;43m.\u001b[39;49m\u001b[43mapply\u001b[49m\u001b[43m(\u001b[49m\u001b[43mtranslator_v2\u001b[49m\u001b[43m)\u001b[49m\n\u001b[0;32m      8\u001b[0m     \u001b[38;5;66;03m# for col in cols_to_translate:\u001b[39;00m\n\u001b[0;32m      9\u001b[0m     \u001b[38;5;66;03m#     # print(f'Translating {col}')\u001b[39;00m\n\u001b[0;32m     10\u001b[0m     \u001b[38;5;66;03m#     temp_df[col] = temp_df[col].apply(lambda x: translator(x,source='hi'))\u001b[39;00m\n\u001b[0;32m     11\u001b[0m     \u001b[38;5;66;03m#     # print(f'Done')\u001b[39;00m\n\u001b[0;32m     12\u001b[0m     records_translated \u001b[38;5;241m=\u001b[39m pd\u001b[38;5;241m.\u001b[39mconcat([records_translated,temp_df])\n",
      "File \u001b[1;32mc:\\Users\\ayush\\anaconda3\\envs\\morph\\lib\\site-packages\\pandas\\core\\series.py:4771\u001b[0m, in \u001b[0;36mSeries.apply\u001b[1;34m(self, func, convert_dtype, args, **kwargs)\u001b[0m\n\u001b[0;32m   4661\u001b[0m \u001b[38;5;28;01mdef\u001b[39;00m \u001b[38;5;21mapply\u001b[39m(\n\u001b[0;32m   4662\u001b[0m     \u001b[38;5;28mself\u001b[39m,\n\u001b[0;32m   4663\u001b[0m     func: AggFuncType,\n\u001b[1;32m   (...)\u001b[0m\n\u001b[0;32m   4666\u001b[0m     \u001b[38;5;241m*\u001b[39m\u001b[38;5;241m*\u001b[39mkwargs,\n\u001b[0;32m   4667\u001b[0m ) \u001b[38;5;241m-\u001b[39m\u001b[38;5;241m>\u001b[39m DataFrame \u001b[38;5;241m|\u001b[39m Series:\n\u001b[0;32m   4668\u001b[0m     \u001b[38;5;124;03m\"\"\"\u001b[39;00m\n\u001b[0;32m   4669\u001b[0m \u001b[38;5;124;03m    Invoke function on values of Series.\u001b[39;00m\n\u001b[0;32m   4670\u001b[0m \n\u001b[1;32m   (...)\u001b[0m\n\u001b[0;32m   4769\u001b[0m \u001b[38;5;124;03m    dtype: float64\u001b[39;00m\n\u001b[0;32m   4770\u001b[0m \u001b[38;5;124;03m    \"\"\"\u001b[39;00m\n\u001b[1;32m-> 4771\u001b[0m     \u001b[38;5;28;01mreturn\u001b[39;00m \u001b[43mSeriesApply\u001b[49m\u001b[43m(\u001b[49m\u001b[38;5;28;43mself\u001b[39;49m\u001b[43m,\u001b[49m\u001b[43m \u001b[49m\u001b[43mfunc\u001b[49m\u001b[43m,\u001b[49m\u001b[43m \u001b[49m\u001b[43mconvert_dtype\u001b[49m\u001b[43m,\u001b[49m\u001b[43m \u001b[49m\u001b[43margs\u001b[49m\u001b[43m,\u001b[49m\u001b[43m \u001b[49m\u001b[43mkwargs\u001b[49m\u001b[43m)\u001b[49m\u001b[38;5;241;43m.\u001b[39;49m\u001b[43mapply\u001b[49m\u001b[43m(\u001b[49m\u001b[43m)\u001b[49m\n",
      "File \u001b[1;32mc:\\Users\\ayush\\anaconda3\\envs\\morph\\lib\\site-packages\\pandas\\core\\apply.py:1123\u001b[0m, in \u001b[0;36mSeriesApply.apply\u001b[1;34m(self)\u001b[0m\n\u001b[0;32m   1120\u001b[0m     \u001b[38;5;28;01mreturn\u001b[39;00m \u001b[38;5;28mself\u001b[39m\u001b[38;5;241m.\u001b[39mapply_str()\n\u001b[0;32m   1122\u001b[0m \u001b[38;5;66;03m# self.f is Callable\u001b[39;00m\n\u001b[1;32m-> 1123\u001b[0m \u001b[38;5;28;01mreturn\u001b[39;00m \u001b[38;5;28;43mself\u001b[39;49m\u001b[38;5;241;43m.\u001b[39;49m\u001b[43mapply_standard\u001b[49m\u001b[43m(\u001b[49m\u001b[43m)\u001b[49m\n",
      "File \u001b[1;32mc:\\Users\\ayush\\anaconda3\\envs\\morph\\lib\\site-packages\\pandas\\core\\apply.py:1174\u001b[0m, in \u001b[0;36mSeriesApply.apply_standard\u001b[1;34m(self)\u001b[0m\n\u001b[0;32m   1172\u001b[0m     \u001b[38;5;28;01melse\u001b[39;00m:\n\u001b[0;32m   1173\u001b[0m         values \u001b[38;5;241m=\u001b[39m obj\u001b[38;5;241m.\u001b[39mastype(\u001b[38;5;28mobject\u001b[39m)\u001b[38;5;241m.\u001b[39m_values\n\u001b[1;32m-> 1174\u001b[0m         mapped \u001b[38;5;241m=\u001b[39m \u001b[43mlib\u001b[49m\u001b[38;5;241;43m.\u001b[39;49m\u001b[43mmap_infer\u001b[49m\u001b[43m(\u001b[49m\n\u001b[0;32m   1175\u001b[0m \u001b[43m            \u001b[49m\u001b[43mvalues\u001b[49m\u001b[43m,\u001b[49m\n\u001b[0;32m   1176\u001b[0m \u001b[43m            \u001b[49m\u001b[43mf\u001b[49m\u001b[43m,\u001b[49m\n\u001b[0;32m   1177\u001b[0m \u001b[43m            \u001b[49m\u001b[43mconvert\u001b[49m\u001b[38;5;241;43m=\u001b[39;49m\u001b[38;5;28;43mself\u001b[39;49m\u001b[38;5;241;43m.\u001b[39;49m\u001b[43mconvert_dtype\u001b[49m\u001b[43m,\u001b[49m\n\u001b[0;32m   1178\u001b[0m \u001b[43m        \u001b[49m\u001b[43m)\u001b[49m\n\u001b[0;32m   1180\u001b[0m \u001b[38;5;28;01mif\u001b[39;00m \u001b[38;5;28mlen\u001b[39m(mapped) \u001b[38;5;129;01mand\u001b[39;00m \u001b[38;5;28misinstance\u001b[39m(mapped[\u001b[38;5;241m0\u001b[39m], ABCSeries):\n\u001b[0;32m   1181\u001b[0m     \u001b[38;5;66;03m# GH#43986 Need to do list(mapped) in order to get treated as nested\u001b[39;00m\n\u001b[0;32m   1182\u001b[0m     \u001b[38;5;66;03m#  See also GH#25959 regarding EA support\u001b[39;00m\n\u001b[0;32m   1183\u001b[0m     \u001b[38;5;28;01mreturn\u001b[39;00m obj\u001b[38;5;241m.\u001b[39m_constructor_expanddim(\u001b[38;5;28mlist\u001b[39m(mapped), index\u001b[38;5;241m=\u001b[39mobj\u001b[38;5;241m.\u001b[39mindex)\n",
      "File \u001b[1;32mc:\\Users\\ayush\\anaconda3\\envs\\morph\\lib\\site-packages\\pandas\\_libs\\lib.pyx:2924\u001b[0m, in \u001b[0;36mpandas._libs.lib.map_infer\u001b[1;34m()\u001b[0m\n",
      "Cell \u001b[1;32mIn[2], line 8\u001b[0m, in \u001b[0;36mtranslator_v2\u001b[1;34m(s, source)\u001b[0m\n\u001b[0;32m      6\u001b[0m \u001b[38;5;28;01mdef\u001b[39;00m \u001b[38;5;21mtranslator_v2\u001b[39m(s,source\u001b[38;5;241m=\u001b[39m\u001b[38;5;124m'\u001b[39m\u001b[38;5;124mauto\u001b[39m\u001b[38;5;124m'\u001b[39m):\n\u001b[0;32m      7\u001b[0m         translator \u001b[38;5;241m=\u001b[39m Translator()\n\u001b[1;32m----> 8\u001b[0m         \u001b[38;5;28;01mreturn\u001b[39;00m \u001b[43mtranslator\u001b[49m\u001b[38;5;241;43m.\u001b[39;49m\u001b[43mtranslate\u001b[49m\u001b[43m(\u001b[49m\u001b[43ms\u001b[49m\u001b[43m,\u001b[49m\u001b[43m \u001b[49m\u001b[43msrc\u001b[49m\u001b[38;5;241;43m=\u001b[39;49m\u001b[38;5;124;43m'\u001b[39;49m\u001b[38;5;124;43mhi\u001b[39;49m\u001b[38;5;124;43m'\u001b[39;49m\u001b[43m,\u001b[49m\u001b[43mdest\u001b[49m\u001b[38;5;241;43m=\u001b[39;49m\u001b[38;5;124;43m'\u001b[39;49m\u001b[38;5;124;43men\u001b[39;49m\u001b[38;5;124;43m'\u001b[39;49m\u001b[43m)\u001b[49m\u001b[38;5;241m.\u001b[39mtext \u001b[38;5;28;01mif\u001b[39;00m s \u001b[38;5;241m!=\u001b[39m \u001b[38;5;124m'\u001b[39m\u001b[38;5;124m'\u001b[39m \u001b[38;5;28;01melse\u001b[39;00m \u001b[38;5;124m'\u001b[39m\u001b[38;5;124mnull\u001b[39m\u001b[38;5;124m'\u001b[39m\n",
      "File \u001b[1;32mc:\\Users\\ayush\\anaconda3\\envs\\morph\\lib\\site-packages\\googletrans\\client.py:210\u001b[0m, in \u001b[0;36mTranslator.translate\u001b[1;34m(self, text, dest, src, **kwargs)\u001b[0m\n\u001b[0;32m    207\u001b[0m     \u001b[38;5;28;01mreturn\u001b[39;00m result\n\u001b[0;32m    209\u001b[0m origin \u001b[38;5;241m=\u001b[39m text\n\u001b[1;32m--> 210\u001b[0m data, response \u001b[38;5;241m=\u001b[39m \u001b[38;5;28;43mself\u001b[39;49m\u001b[38;5;241;43m.\u001b[39;49m\u001b[43m_translate\u001b[49m\u001b[43m(\u001b[49m\u001b[43mtext\u001b[49m\u001b[43m,\u001b[49m\u001b[43m \u001b[49m\u001b[43mdest\u001b[49m\u001b[43m,\u001b[49m\u001b[43m \u001b[49m\u001b[43msrc\u001b[49m\u001b[43m,\u001b[49m\u001b[43m \u001b[49m\u001b[43mkwargs\u001b[49m\u001b[43m)\u001b[49m\n\u001b[0;32m    212\u001b[0m \u001b[38;5;66;03m# this code will be updated when the format is changed.\u001b[39;00m\n\u001b[0;32m    213\u001b[0m translated \u001b[38;5;241m=\u001b[39m \u001b[38;5;124m'\u001b[39m\u001b[38;5;124m'\u001b[39m\u001b[38;5;241m.\u001b[39mjoin([d[\u001b[38;5;241m0\u001b[39m] \u001b[38;5;28;01mif\u001b[39;00m d[\u001b[38;5;241m0\u001b[39m] \u001b[38;5;28;01melse\u001b[39;00m \u001b[38;5;124m'\u001b[39m\u001b[38;5;124m'\u001b[39m \u001b[38;5;28;01mfor\u001b[39;00m d \u001b[38;5;129;01min\u001b[39;00m data[\u001b[38;5;241m0\u001b[39m]])\n",
      "File \u001b[1;32mc:\\Users\\ayush\\anaconda3\\envs\\morph\\lib\\site-packages\\googletrans\\client.py:108\u001b[0m, in \u001b[0;36mTranslator._translate\u001b[1;34m(self, text, dest, src, override)\u001b[0m\n\u001b[0;32m    104\u001b[0m params \u001b[38;5;241m=\u001b[39m utils\u001b[38;5;241m.\u001b[39mbuild_params(client\u001b[38;5;241m=\u001b[39m\u001b[38;5;28mself\u001b[39m\u001b[38;5;241m.\u001b[39mclient_type, query\u001b[38;5;241m=\u001b[39mtext, src\u001b[38;5;241m=\u001b[39msrc, dest\u001b[38;5;241m=\u001b[39mdest,\n\u001b[0;32m    105\u001b[0m                             token\u001b[38;5;241m=\u001b[39mtoken, override\u001b[38;5;241m=\u001b[39moverride)\n\u001b[0;32m    107\u001b[0m url \u001b[38;5;241m=\u001b[39m urls\u001b[38;5;241m.\u001b[39mTRANSLATE\u001b[38;5;241m.\u001b[39mformat(host\u001b[38;5;241m=\u001b[39m\u001b[38;5;28mself\u001b[39m\u001b[38;5;241m.\u001b[39m_pick_service_url())\n\u001b[1;32m--> 108\u001b[0m r \u001b[38;5;241m=\u001b[39m \u001b[38;5;28;43mself\u001b[39;49m\u001b[38;5;241;43m.\u001b[39;49m\u001b[43mclient\u001b[49m\u001b[38;5;241;43m.\u001b[39;49m\u001b[43mget\u001b[49m\u001b[43m(\u001b[49m\u001b[43murl\u001b[49m\u001b[43m,\u001b[49m\u001b[43m \u001b[49m\u001b[43mparams\u001b[49m\u001b[38;5;241;43m=\u001b[39;49m\u001b[43mparams\u001b[49m\u001b[43m)\u001b[49m\n\u001b[0;32m    110\u001b[0m \u001b[38;5;28;01mif\u001b[39;00m r\u001b[38;5;241m.\u001b[39mstatus_code \u001b[38;5;241m==\u001b[39m \u001b[38;5;241m200\u001b[39m:\n\u001b[0;32m    111\u001b[0m     data \u001b[38;5;241m=\u001b[39m utils\u001b[38;5;241m.\u001b[39mformat_json(r\u001b[38;5;241m.\u001b[39mtext)\n",
      "File \u001b[1;32mc:\\Users\\ayush\\anaconda3\\envs\\morph\\lib\\site-packages\\httpx\\_client.py:755\u001b[0m, in \u001b[0;36mClient.get\u001b[1;34m(self, url, params, headers, cookies, auth, allow_redirects, timeout)\u001b[0m\n\u001b[0;32m    744\u001b[0m \u001b[38;5;28;01mdef\u001b[39;00m \u001b[38;5;21mget\u001b[39m(\n\u001b[0;32m    745\u001b[0m     \u001b[38;5;28mself\u001b[39m,\n\u001b[0;32m    746\u001b[0m     url: URLTypes,\n\u001b[1;32m   (...)\u001b[0m\n\u001b[0;32m    753\u001b[0m     timeout: typing\u001b[38;5;241m.\u001b[39mUnion[TimeoutTypes, UnsetType] \u001b[38;5;241m=\u001b[39m UNSET,\n\u001b[0;32m    754\u001b[0m ) \u001b[38;5;241m-\u001b[39m\u001b[38;5;241m>\u001b[39m Response:\n\u001b[1;32m--> 755\u001b[0m     \u001b[38;5;28;01mreturn\u001b[39;00m \u001b[38;5;28;43mself\u001b[39;49m\u001b[38;5;241;43m.\u001b[39;49m\u001b[43mrequest\u001b[49m\u001b[43m(\u001b[49m\n\u001b[0;32m    756\u001b[0m \u001b[43m        \u001b[49m\u001b[38;5;124;43m\"\u001b[39;49m\u001b[38;5;124;43mGET\u001b[39;49m\u001b[38;5;124;43m\"\u001b[39;49m\u001b[43m,\u001b[49m\n\u001b[0;32m    757\u001b[0m \u001b[43m        \u001b[49m\u001b[43murl\u001b[49m\u001b[43m,\u001b[49m\n\u001b[0;32m    758\u001b[0m \u001b[43m        \u001b[49m\u001b[43mparams\u001b[49m\u001b[38;5;241;43m=\u001b[39;49m\u001b[43mparams\u001b[49m\u001b[43m,\u001b[49m\n\u001b[0;32m    759\u001b[0m \u001b[43m        \u001b[49m\u001b[43mheaders\u001b[49m\u001b[38;5;241;43m=\u001b[39;49m\u001b[43mheaders\u001b[49m\u001b[43m,\u001b[49m\n\u001b[0;32m    760\u001b[0m \u001b[43m        \u001b[49m\u001b[43mcookies\u001b[49m\u001b[38;5;241;43m=\u001b[39;49m\u001b[43mcookies\u001b[49m\u001b[43m,\u001b[49m\n\u001b[0;32m    761\u001b[0m \u001b[43m        \u001b[49m\u001b[43mauth\u001b[49m\u001b[38;5;241;43m=\u001b[39;49m\u001b[43mauth\u001b[49m\u001b[43m,\u001b[49m\n\u001b[0;32m    762\u001b[0m \u001b[43m        \u001b[49m\u001b[43mallow_redirects\u001b[49m\u001b[38;5;241;43m=\u001b[39;49m\u001b[43mallow_redirects\u001b[49m\u001b[43m,\u001b[49m\n\u001b[0;32m    763\u001b[0m \u001b[43m        \u001b[49m\u001b[43mtimeout\u001b[49m\u001b[38;5;241;43m=\u001b[39;49m\u001b[43mtimeout\u001b[49m\u001b[43m,\u001b[49m\n\u001b[0;32m    764\u001b[0m \u001b[43m    \u001b[49m\u001b[43m)\u001b[49m\n",
      "File \u001b[1;32mc:\\Users\\ayush\\anaconda3\\envs\\morph\\lib\\site-packages\\httpx\\_client.py:600\u001b[0m, in \u001b[0;36mClient.request\u001b[1;34m(self, method, url, data, files, json, params, headers, cookies, auth, allow_redirects, timeout)\u001b[0m\n\u001b[0;32m    575\u001b[0m \u001b[38;5;28;01mdef\u001b[39;00m \u001b[38;5;21mrequest\u001b[39m(\n\u001b[0;32m    576\u001b[0m     \u001b[38;5;28mself\u001b[39m,\n\u001b[0;32m    577\u001b[0m     method: \u001b[38;5;28mstr\u001b[39m,\n\u001b[1;32m   (...)\u001b[0m\n\u001b[0;32m    588\u001b[0m     timeout: typing\u001b[38;5;241m.\u001b[39mUnion[TimeoutTypes, UnsetType] \u001b[38;5;241m=\u001b[39m UNSET,\n\u001b[0;32m    589\u001b[0m ) \u001b[38;5;241m-\u001b[39m\u001b[38;5;241m>\u001b[39m Response:\n\u001b[0;32m    590\u001b[0m     request \u001b[38;5;241m=\u001b[39m \u001b[38;5;28mself\u001b[39m\u001b[38;5;241m.\u001b[39mbuild_request(\n\u001b[0;32m    591\u001b[0m         method\u001b[38;5;241m=\u001b[39mmethod,\n\u001b[0;32m    592\u001b[0m         url\u001b[38;5;241m=\u001b[39murl,\n\u001b[1;32m   (...)\u001b[0m\n\u001b[0;32m    598\u001b[0m         cookies\u001b[38;5;241m=\u001b[39mcookies,\n\u001b[0;32m    599\u001b[0m     )\n\u001b[1;32m--> 600\u001b[0m     \u001b[38;5;28;01mreturn\u001b[39;00m \u001b[38;5;28;43mself\u001b[39;49m\u001b[38;5;241;43m.\u001b[39;49m\u001b[43msend\u001b[49m\u001b[43m(\u001b[49m\n\u001b[0;32m    601\u001b[0m \u001b[43m        \u001b[49m\u001b[43mrequest\u001b[49m\u001b[43m,\u001b[49m\u001b[43m \u001b[49m\u001b[43mauth\u001b[49m\u001b[38;5;241;43m=\u001b[39;49m\u001b[43mauth\u001b[49m\u001b[43m,\u001b[49m\u001b[43m \u001b[49m\u001b[43mallow_redirects\u001b[49m\u001b[38;5;241;43m=\u001b[39;49m\u001b[43mallow_redirects\u001b[49m\u001b[43m,\u001b[49m\u001b[43m \u001b[49m\u001b[43mtimeout\u001b[49m\u001b[38;5;241;43m=\u001b[39;49m\u001b[43mtimeout\u001b[49m\u001b[43m,\u001b[49m\n\u001b[0;32m    602\u001b[0m \u001b[43m    \u001b[49m\u001b[43m)\u001b[49m\n",
      "File \u001b[1;32mc:\\Users\\ayush\\anaconda3\\envs\\morph\\lib\\site-packages\\httpx\\_client.py:620\u001b[0m, in \u001b[0;36mClient.send\u001b[1;34m(self, request, stream, auth, allow_redirects, timeout)\u001b[0m\n\u001b[0;32m    616\u001b[0m timeout \u001b[38;5;241m=\u001b[39m \u001b[38;5;28mself\u001b[39m\u001b[38;5;241m.\u001b[39mtimeout \u001b[38;5;28;01mif\u001b[39;00m \u001b[38;5;28misinstance\u001b[39m(timeout, UnsetType) \u001b[38;5;28;01melse\u001b[39;00m Timeout(timeout)\n\u001b[0;32m    618\u001b[0m auth \u001b[38;5;241m=\u001b[39m \u001b[38;5;28mself\u001b[39m\u001b[38;5;241m.\u001b[39mbuild_auth(request, auth)\n\u001b[1;32m--> 620\u001b[0m response \u001b[38;5;241m=\u001b[39m \u001b[38;5;28;43mself\u001b[39;49m\u001b[38;5;241;43m.\u001b[39;49m\u001b[43msend_handling_redirects\u001b[49m\u001b[43m(\u001b[49m\n\u001b[0;32m    621\u001b[0m \u001b[43m    \u001b[49m\u001b[43mrequest\u001b[49m\u001b[43m,\u001b[49m\u001b[43m \u001b[49m\u001b[43mauth\u001b[49m\u001b[38;5;241;43m=\u001b[39;49m\u001b[43mauth\u001b[49m\u001b[43m,\u001b[49m\u001b[43m \u001b[49m\u001b[43mtimeout\u001b[49m\u001b[38;5;241;43m=\u001b[39;49m\u001b[43mtimeout\u001b[49m\u001b[43m,\u001b[49m\u001b[43m \u001b[49m\u001b[43mallow_redirects\u001b[49m\u001b[38;5;241;43m=\u001b[39;49m\u001b[43mallow_redirects\u001b[49m\u001b[43m,\u001b[49m\n\u001b[0;32m    622\u001b[0m \u001b[43m\u001b[49m\u001b[43m)\u001b[49m\n\u001b[0;32m    624\u001b[0m \u001b[38;5;28;01mif\u001b[39;00m \u001b[38;5;129;01mnot\u001b[39;00m stream:\n\u001b[0;32m    625\u001b[0m     \u001b[38;5;28;01mtry\u001b[39;00m:\n",
      "File \u001b[1;32mc:\\Users\\ayush\\anaconda3\\envs\\morph\\lib\\site-packages\\httpx\\_client.py:647\u001b[0m, in \u001b[0;36mClient.send_handling_redirects\u001b[1;34m(self, request, auth, timeout, allow_redirects, history)\u001b[0m\n\u001b[0;32m    644\u001b[0m \u001b[38;5;28;01mif\u001b[39;00m \u001b[38;5;28mlen\u001b[39m(history) \u001b[38;5;241m>\u001b[39m \u001b[38;5;28mself\u001b[39m\u001b[38;5;241m.\u001b[39mmax_redirects:\n\u001b[0;32m    645\u001b[0m     \u001b[38;5;28;01mraise\u001b[39;00m TooManyRedirects()\n\u001b[1;32m--> 647\u001b[0m response \u001b[38;5;241m=\u001b[39m \u001b[38;5;28;43mself\u001b[39;49m\u001b[38;5;241;43m.\u001b[39;49m\u001b[43msend_handling_auth\u001b[49m\u001b[43m(\u001b[49m\n\u001b[0;32m    648\u001b[0m \u001b[43m    \u001b[49m\u001b[43mrequest\u001b[49m\u001b[43m,\u001b[49m\u001b[43m \u001b[49m\u001b[43mauth\u001b[49m\u001b[38;5;241;43m=\u001b[39;49m\u001b[43mauth\u001b[49m\u001b[43m,\u001b[49m\u001b[43m \u001b[49m\u001b[43mtimeout\u001b[49m\u001b[38;5;241;43m=\u001b[39;49m\u001b[43mtimeout\u001b[49m\u001b[43m,\u001b[49m\u001b[43m \u001b[49m\u001b[43mhistory\u001b[49m\u001b[38;5;241;43m=\u001b[39;49m\u001b[43mhistory\u001b[49m\n\u001b[0;32m    649\u001b[0m \u001b[43m\u001b[49m\u001b[43m)\u001b[49m\n\u001b[0;32m    650\u001b[0m response\u001b[38;5;241m.\u001b[39mhistory \u001b[38;5;241m=\u001b[39m \u001b[38;5;28mlist\u001b[39m(history)\n\u001b[0;32m    652\u001b[0m \u001b[38;5;28;01mif\u001b[39;00m \u001b[38;5;129;01mnot\u001b[39;00m response\u001b[38;5;241m.\u001b[39mis_redirect:\n",
      "File \u001b[1;32mc:\\Users\\ayush\\anaconda3\\envs\\morph\\lib\\site-packages\\httpx\\_client.py:684\u001b[0m, in \u001b[0;36mClient.send_handling_auth\u001b[1;34m(self, request, history, auth, timeout)\u001b[0m\n\u001b[0;32m    682\u001b[0m request \u001b[38;5;241m=\u001b[39m \u001b[38;5;28mnext\u001b[39m(auth_flow)\n\u001b[0;32m    683\u001b[0m \u001b[38;5;28;01mwhile\u001b[39;00m \u001b[38;5;28;01mTrue\u001b[39;00m:\n\u001b[1;32m--> 684\u001b[0m     response \u001b[38;5;241m=\u001b[39m \u001b[38;5;28;43mself\u001b[39;49m\u001b[38;5;241;43m.\u001b[39;49m\u001b[43msend_single_request\u001b[49m\u001b[43m(\u001b[49m\u001b[43mrequest\u001b[49m\u001b[43m,\u001b[49m\u001b[43m \u001b[49m\u001b[43mtimeout\u001b[49m\u001b[43m)\u001b[49m\n\u001b[0;32m    685\u001b[0m     \u001b[38;5;28;01mif\u001b[39;00m auth\u001b[38;5;241m.\u001b[39mrequires_response_body:\n\u001b[0;32m    686\u001b[0m         response\u001b[38;5;241m.\u001b[39mread()\n",
      "File \u001b[1;32mc:\\Users\\ayush\\anaconda3\\envs\\morph\\lib\\site-packages\\httpx\\_client.py:714\u001b[0m, in \u001b[0;36mClient.send_single_request\u001b[1;34m(self, request, timeout)\u001b[0m\n\u001b[0;32m    705\u001b[0m transport \u001b[38;5;241m=\u001b[39m \u001b[38;5;28mself\u001b[39m\u001b[38;5;241m.\u001b[39mtransport_for_url(request\u001b[38;5;241m.\u001b[39murl)\n\u001b[0;32m    707\u001b[0m \u001b[38;5;28;01mtry\u001b[39;00m:\n\u001b[0;32m    708\u001b[0m     (\n\u001b[0;32m    709\u001b[0m         http_version,\n\u001b[0;32m    710\u001b[0m         status_code,\n\u001b[0;32m    711\u001b[0m         reason_phrase,\n\u001b[0;32m    712\u001b[0m         headers,\n\u001b[0;32m    713\u001b[0m         stream,\n\u001b[1;32m--> 714\u001b[0m     ) \u001b[38;5;241m=\u001b[39m \u001b[43mtransport\u001b[49m\u001b[38;5;241;43m.\u001b[39;49m\u001b[43mrequest\u001b[49m\u001b[43m(\u001b[49m\n\u001b[0;32m    715\u001b[0m \u001b[43m        \u001b[49m\u001b[43mrequest\u001b[49m\u001b[38;5;241;43m.\u001b[39;49m\u001b[43mmethod\u001b[49m\u001b[38;5;241;43m.\u001b[39;49m\u001b[43mencode\u001b[49m\u001b[43m(\u001b[49m\u001b[43m)\u001b[49m\u001b[43m,\u001b[49m\n\u001b[0;32m    716\u001b[0m \u001b[43m        \u001b[49m\u001b[43mrequest\u001b[49m\u001b[38;5;241;43m.\u001b[39;49m\u001b[43murl\u001b[49m\u001b[38;5;241;43m.\u001b[39;49m\u001b[43mraw\u001b[49m\u001b[43m,\u001b[49m\n\u001b[0;32m    717\u001b[0m \u001b[43m        \u001b[49m\u001b[43mheaders\u001b[49m\u001b[38;5;241;43m=\u001b[39;49m\u001b[43mrequest\u001b[49m\u001b[38;5;241;43m.\u001b[39;49m\u001b[43mheaders\u001b[49m\u001b[38;5;241;43m.\u001b[39;49m\u001b[43mraw\u001b[49m\u001b[43m,\u001b[49m\n\u001b[0;32m    718\u001b[0m \u001b[43m        \u001b[49m\u001b[43mstream\u001b[49m\u001b[38;5;241;43m=\u001b[39;49m\u001b[43mrequest\u001b[49m\u001b[38;5;241;43m.\u001b[39;49m\u001b[43mstream\u001b[49m\u001b[43m,\u001b[49m\n\u001b[0;32m    719\u001b[0m \u001b[43m        \u001b[49m\u001b[43mtimeout\u001b[49m\u001b[38;5;241;43m=\u001b[39;49m\u001b[43mtimeout\u001b[49m\u001b[38;5;241;43m.\u001b[39;49m\u001b[43mas_dict\u001b[49m\u001b[43m(\u001b[49m\u001b[43m)\u001b[49m\u001b[43m,\u001b[49m\n\u001b[0;32m    720\u001b[0m \u001b[43m    \u001b[49m\u001b[43m)\u001b[49m\n\u001b[0;32m    721\u001b[0m \u001b[38;5;28;01mexcept\u001b[39;00m HTTPError \u001b[38;5;28;01mas\u001b[39;00m exc:\n\u001b[0;32m    722\u001b[0m     \u001b[38;5;66;03m# Add the original request to any HTTPError unless\u001b[39;00m\n\u001b[0;32m    723\u001b[0m     \u001b[38;5;66;03m# there'a already a request attached in the case of\u001b[39;00m\n\u001b[0;32m    724\u001b[0m     \u001b[38;5;66;03m# a ProxyError.\u001b[39;00m\n\u001b[0;32m    725\u001b[0m     \u001b[38;5;28;01mif\u001b[39;00m exc\u001b[38;5;241m.\u001b[39m_request \u001b[38;5;129;01mis\u001b[39;00m \u001b[38;5;28;01mNone\u001b[39;00m:\n",
      "File \u001b[1;32mc:\\Users\\ayush\\anaconda3\\envs\\morph\\lib\\site-packages\\httpcore\\_sync\\connection_pool.py:152\u001b[0m, in \u001b[0;36mSyncConnectionPool.request\u001b[1;34m(self, method, url, headers, stream, timeout)\u001b[0m\n\u001b[0;32m    149\u001b[0m         logger\u001b[38;5;241m.\u001b[39mtrace(\u001b[38;5;124m\"\u001b[39m\u001b[38;5;124mreuse connection=\u001b[39m\u001b[38;5;132;01m%r\u001b[39;00m\u001b[38;5;124m\"\u001b[39m, connection)\n\u001b[0;32m    151\u001b[0m \u001b[38;5;28;01mtry\u001b[39;00m:\n\u001b[1;32m--> 152\u001b[0m     response \u001b[38;5;241m=\u001b[39m \u001b[43mconnection\u001b[49m\u001b[38;5;241;43m.\u001b[39;49m\u001b[43mrequest\u001b[49m\u001b[43m(\u001b[49m\n\u001b[0;32m    153\u001b[0m \u001b[43m        \u001b[49m\u001b[43mmethod\u001b[49m\u001b[43m,\u001b[49m\u001b[43m \u001b[49m\u001b[43murl\u001b[49m\u001b[43m,\u001b[49m\u001b[43m \u001b[49m\u001b[43mheaders\u001b[49m\u001b[38;5;241;43m=\u001b[39;49m\u001b[43mheaders\u001b[49m\u001b[43m,\u001b[49m\u001b[43m \u001b[49m\u001b[43mstream\u001b[49m\u001b[38;5;241;43m=\u001b[39;49m\u001b[43mstream\u001b[49m\u001b[43m,\u001b[49m\u001b[43m \u001b[49m\u001b[43mtimeout\u001b[49m\u001b[38;5;241;43m=\u001b[39;49m\u001b[43mtimeout\u001b[49m\n\u001b[0;32m    154\u001b[0m \u001b[43m    \u001b[49m\u001b[43m)\u001b[49m\n\u001b[0;32m    155\u001b[0m \u001b[38;5;28;01mexcept\u001b[39;00m NewConnectionRequired:\n\u001b[0;32m    156\u001b[0m     connection \u001b[38;5;241m=\u001b[39m \u001b[38;5;28;01mNone\u001b[39;00m\n",
      "File \u001b[1;32mc:\\Users\\ayush\\anaconda3\\envs\\morph\\lib\\site-packages\\httpcore\\_sync\\connection.py:78\u001b[0m, in \u001b[0;36mSyncHTTPConnection.request\u001b[1;34m(self, method, url, headers, stream, timeout)\u001b[0m\n\u001b[0;32m     74\u001b[0m \u001b[38;5;28;01massert\u001b[39;00m \u001b[38;5;28mself\u001b[39m\u001b[38;5;241m.\u001b[39mconnection \u001b[38;5;129;01mis\u001b[39;00m \u001b[38;5;129;01mnot\u001b[39;00m \u001b[38;5;28;01mNone\u001b[39;00m\n\u001b[0;32m     75\u001b[0m logger\u001b[38;5;241m.\u001b[39mtrace(\n\u001b[0;32m     76\u001b[0m     \u001b[38;5;124m\"\u001b[39m\u001b[38;5;124mconnection.request method=\u001b[39m\u001b[38;5;132;01m%r\u001b[39;00m\u001b[38;5;124m url=\u001b[39m\u001b[38;5;132;01m%r\u001b[39;00m\u001b[38;5;124m headers=\u001b[39m\u001b[38;5;132;01m%r\u001b[39;00m\u001b[38;5;124m\"\u001b[39m, method, url, headers\n\u001b[0;32m     77\u001b[0m )\n\u001b[1;32m---> 78\u001b[0m \u001b[38;5;28;01mreturn\u001b[39;00m \u001b[38;5;28;43mself\u001b[39;49m\u001b[38;5;241;43m.\u001b[39;49m\u001b[43mconnection\u001b[49m\u001b[38;5;241;43m.\u001b[39;49m\u001b[43mrequest\u001b[49m\u001b[43m(\u001b[49m\u001b[43mmethod\u001b[49m\u001b[43m,\u001b[49m\u001b[43m \u001b[49m\u001b[43murl\u001b[49m\u001b[43m,\u001b[49m\u001b[43m \u001b[49m\u001b[43mheaders\u001b[49m\u001b[43m,\u001b[49m\u001b[43m \u001b[49m\u001b[43mstream\u001b[49m\u001b[43m,\u001b[49m\u001b[43m \u001b[49m\u001b[43mtimeout\u001b[49m\u001b[43m)\u001b[49m\n",
      "File \u001b[1;32mc:\\Users\\ayush\\anaconda3\\envs\\morph\\lib\\site-packages\\httpcore\\_sync\\http2.py:118\u001b[0m, in \u001b[0;36mSyncHTTP2Connection.request\u001b[1;34m(self, method, url, headers, stream, timeout)\u001b[0m\n\u001b[0;32m    116\u001b[0m     \u001b[38;5;28mself\u001b[39m\u001b[38;5;241m.\u001b[39mstreams[stream_id] \u001b[38;5;241m=\u001b[39m h2_stream\n\u001b[0;32m    117\u001b[0m     \u001b[38;5;28mself\u001b[39m\u001b[38;5;241m.\u001b[39mevents[stream_id] \u001b[38;5;241m=\u001b[39m []\n\u001b[1;32m--> 118\u001b[0m     \u001b[38;5;28;01mreturn\u001b[39;00m \u001b[43mh2_stream\u001b[49m\u001b[38;5;241;43m.\u001b[39;49m\u001b[43mrequest\u001b[49m\u001b[43m(\u001b[49m\u001b[43mmethod\u001b[49m\u001b[43m,\u001b[49m\u001b[43m \u001b[49m\u001b[43murl\u001b[49m\u001b[43m,\u001b[49m\u001b[43m \u001b[49m\u001b[43mheaders\u001b[49m\u001b[43m,\u001b[49m\u001b[43m \u001b[49m\u001b[43mstream\u001b[49m\u001b[43m,\u001b[49m\u001b[43m \u001b[49m\u001b[43mtimeout\u001b[49m\u001b[43m)\u001b[49m\n\u001b[0;32m    119\u001b[0m \u001b[38;5;28;01mexcept\u001b[39;00m \u001b[38;5;167;01mException\u001b[39;00m:\n\u001b[0;32m    120\u001b[0m     \u001b[38;5;28mself\u001b[39m\u001b[38;5;241m.\u001b[39mmax_streams_semaphore\u001b[38;5;241m.\u001b[39mrelease()\n",
      "File \u001b[1;32mc:\\Users\\ayush\\anaconda3\\envs\\morph\\lib\\site-packages\\httpcore\\_sync\\http2.py:292\u001b[0m, in \u001b[0;36mSyncHTTP2Stream.request\u001b[1;34m(self, method, url, headers, stream, timeout)\u001b[0m\n\u001b[0;32m    289\u001b[0m     \u001b[38;5;28mself\u001b[39m\u001b[38;5;241m.\u001b[39msend_body(stream, timeout)\n\u001b[0;32m    291\u001b[0m \u001b[38;5;66;03m# Receive the response.\u001b[39;00m\n\u001b[1;32m--> 292\u001b[0m status_code, headers \u001b[38;5;241m=\u001b[39m \u001b[38;5;28;43mself\u001b[39;49m\u001b[38;5;241;43m.\u001b[39;49m\u001b[43mreceive_response\u001b[49m\u001b[43m(\u001b[49m\u001b[43mtimeout\u001b[49m\u001b[43m)\u001b[49m\n\u001b[0;32m    293\u001b[0m reason_phrase \u001b[38;5;241m=\u001b[39m get_reason_phrase(status_code)\n\u001b[0;32m    294\u001b[0m stream \u001b[38;5;241m=\u001b[39m SyncByteStream(\n\u001b[0;32m    295\u001b[0m     iterator\u001b[38;5;241m=\u001b[39m\u001b[38;5;28mself\u001b[39m\u001b[38;5;241m.\u001b[39mbody_iter(timeout), close_func\u001b[38;5;241m=\u001b[39m\u001b[38;5;28mself\u001b[39m\u001b[38;5;241m.\u001b[39m_response_closed\n\u001b[0;32m    296\u001b[0m )\n",
      "File \u001b[1;32mc:\\Users\\ayush\\anaconda3\\envs\\morph\\lib\\site-packages\\httpcore\\_sync\\http2.py:344\u001b[0m, in \u001b[0;36mSyncHTTP2Stream.receive_response\u001b[1;34m(self, timeout)\u001b[0m\n\u001b[0;32m    340\u001b[0m \u001b[38;5;124;03m\"\"\"\u001b[39;00m\n\u001b[0;32m    341\u001b[0m \u001b[38;5;124;03mRead the response status and headers from the network.\u001b[39;00m\n\u001b[0;32m    342\u001b[0m \u001b[38;5;124;03m\"\"\"\u001b[39;00m\n\u001b[0;32m    343\u001b[0m \u001b[38;5;28;01mwhile\u001b[39;00m \u001b[38;5;28;01mTrue\u001b[39;00m:\n\u001b[1;32m--> 344\u001b[0m     event \u001b[38;5;241m=\u001b[39m \u001b[38;5;28;43mself\u001b[39;49m\u001b[38;5;241;43m.\u001b[39;49m\u001b[43mconnection\u001b[49m\u001b[38;5;241;43m.\u001b[39;49m\u001b[43mwait_for_event\u001b[49m\u001b[43m(\u001b[49m\u001b[38;5;28;43mself\u001b[39;49m\u001b[38;5;241;43m.\u001b[39;49m\u001b[43mstream_id\u001b[49m\u001b[43m,\u001b[49m\u001b[43m \u001b[49m\u001b[43mtimeout\u001b[49m\u001b[43m)\u001b[49m\n\u001b[0;32m    345\u001b[0m     \u001b[38;5;28;01mif\u001b[39;00m \u001b[38;5;28misinstance\u001b[39m(event, h2\u001b[38;5;241m.\u001b[39mevents\u001b[38;5;241m.\u001b[39mResponseReceived):\n\u001b[0;32m    346\u001b[0m         \u001b[38;5;28;01mbreak\u001b[39;00m\n",
      "File \u001b[1;32mc:\\Users\\ayush\\anaconda3\\envs\\morph\\lib\\site-packages\\httpcore\\_sync\\http2.py:197\u001b[0m, in \u001b[0;36mSyncHTTP2Connection.wait_for_event\u001b[1;34m(self, stream_id, timeout)\u001b[0m\n\u001b[0;32m    195\u001b[0m \u001b[38;5;28;01mwith\u001b[39;00m \u001b[38;5;28mself\u001b[39m\u001b[38;5;241m.\u001b[39mread_lock:\n\u001b[0;32m    196\u001b[0m     \u001b[38;5;28;01mwhile\u001b[39;00m \u001b[38;5;129;01mnot\u001b[39;00m \u001b[38;5;28mself\u001b[39m\u001b[38;5;241m.\u001b[39mevents[stream_id]:\n\u001b[1;32m--> 197\u001b[0m         \u001b[38;5;28;43mself\u001b[39;49m\u001b[38;5;241;43m.\u001b[39;49m\u001b[43mreceive_events\u001b[49m\u001b[43m(\u001b[49m\u001b[43mtimeout\u001b[49m\u001b[43m)\u001b[49m\n\u001b[0;32m    198\u001b[0m \u001b[38;5;28;01mreturn\u001b[39;00m \u001b[38;5;28mself\u001b[39m\u001b[38;5;241m.\u001b[39mevents[stream_id]\u001b[38;5;241m.\u001b[39mpop(\u001b[38;5;241m0\u001b[39m)\n",
      "File \u001b[1;32mc:\\Users\\ayush\\anaconda3\\envs\\morph\\lib\\site-packages\\httpcore\\_sync\\http2.py:204\u001b[0m, in \u001b[0;36mSyncHTTP2Connection.receive_events\u001b[1;34m(self, timeout)\u001b[0m\n\u001b[0;32m    200\u001b[0m \u001b[38;5;28;01mdef\u001b[39;00m \u001b[38;5;21mreceive_events\u001b[39m(\u001b[38;5;28mself\u001b[39m, timeout: TimeoutDict) \u001b[38;5;241m-\u001b[39m\u001b[38;5;241m>\u001b[39m \u001b[38;5;28;01mNone\u001b[39;00m:\n\u001b[0;32m    201\u001b[0m     \u001b[38;5;124;03m\"\"\"\u001b[39;00m\n\u001b[0;32m    202\u001b[0m \u001b[38;5;124;03m    Read some data from the network, and update the H2 state.\u001b[39;00m\n\u001b[0;32m    203\u001b[0m \u001b[38;5;124;03m    \"\"\"\u001b[39;00m\n\u001b[1;32m--> 204\u001b[0m     data \u001b[38;5;241m=\u001b[39m \u001b[38;5;28;43mself\u001b[39;49m\u001b[38;5;241;43m.\u001b[39;49m\u001b[43msocket\u001b[49m\u001b[38;5;241;43m.\u001b[39;49m\u001b[43mread\u001b[49m\u001b[43m(\u001b[49m\u001b[38;5;28;43mself\u001b[39;49m\u001b[38;5;241;43m.\u001b[39;49m\u001b[43mREAD_NUM_BYTES\u001b[49m\u001b[43m,\u001b[49m\u001b[43m \u001b[49m\u001b[43mtimeout\u001b[49m\u001b[43m)\u001b[49m\n\u001b[0;32m    205\u001b[0m     events \u001b[38;5;241m=\u001b[39m \u001b[38;5;28mself\u001b[39m\u001b[38;5;241m.\u001b[39mh2_state\u001b[38;5;241m.\u001b[39mreceive_data(data)\n\u001b[0;32m    206\u001b[0m     \u001b[38;5;28;01mfor\u001b[39;00m event \u001b[38;5;129;01min\u001b[39;00m events:\n",
      "File \u001b[1;32mc:\\Users\\ayush\\anaconda3\\envs\\morph\\lib\\site-packages\\httpcore\\_backends\\sync.py:60\u001b[0m, in \u001b[0;36mSyncSocketStream.read\u001b[1;34m(self, n, timeout)\u001b[0m\n\u001b[0;32m     57\u001b[0m exc_map \u001b[38;5;241m=\u001b[39m {socket\u001b[38;5;241m.\u001b[39mtimeout: ReadTimeout, socket\u001b[38;5;241m.\u001b[39merror: ReadError}\n\u001b[0;32m     59\u001b[0m \u001b[38;5;28;01mwith\u001b[39;00m \u001b[38;5;28mself\u001b[39m\u001b[38;5;241m.\u001b[39mread_lock:\n\u001b[1;32m---> 60\u001b[0m     \u001b[38;5;28;01mwith\u001b[39;00m map_exceptions(exc_map):\n\u001b[0;32m     61\u001b[0m         \u001b[38;5;28mself\u001b[39m\u001b[38;5;241m.\u001b[39msock\u001b[38;5;241m.\u001b[39msettimeout(read_timeout)\n\u001b[0;32m     62\u001b[0m         \u001b[38;5;28;01mreturn\u001b[39;00m \u001b[38;5;28mself\u001b[39m\u001b[38;5;241m.\u001b[39msock\u001b[38;5;241m.\u001b[39mrecv(n)\n",
      "File \u001b[1;32mc:\\Users\\ayush\\anaconda3\\envs\\morph\\lib\\contextlib.py:153\u001b[0m, in \u001b[0;36m_GeneratorContextManager.__exit__\u001b[1;34m(self, typ, value, traceback)\u001b[0m\n\u001b[0;32m    151\u001b[0m     value \u001b[38;5;241m=\u001b[39m typ()\n\u001b[0;32m    152\u001b[0m \u001b[38;5;28;01mtry\u001b[39;00m:\n\u001b[1;32m--> 153\u001b[0m     \u001b[38;5;28;43mself\u001b[39;49m\u001b[38;5;241;43m.\u001b[39;49m\u001b[43mgen\u001b[49m\u001b[38;5;241;43m.\u001b[39;49m\u001b[43mthrow\u001b[49m\u001b[43m(\u001b[49m\u001b[43mtyp\u001b[49m\u001b[43m,\u001b[49m\u001b[43m \u001b[49m\u001b[43mvalue\u001b[49m\u001b[43m,\u001b[49m\u001b[43m \u001b[49m\u001b[43mtraceback\u001b[49m\u001b[43m)\u001b[49m\n\u001b[0;32m    154\u001b[0m \u001b[38;5;28;01mexcept\u001b[39;00m \u001b[38;5;167;01mStopIteration\u001b[39;00m \u001b[38;5;28;01mas\u001b[39;00m exc:\n\u001b[0;32m    155\u001b[0m     \u001b[38;5;66;03m# Suppress StopIteration *unless* it's the same exception that\u001b[39;00m\n\u001b[0;32m    156\u001b[0m     \u001b[38;5;66;03m# was passed to throw().  This prevents a StopIteration\u001b[39;00m\n\u001b[0;32m    157\u001b[0m     \u001b[38;5;66;03m# raised inside the \"with\" statement from being suppressed.\u001b[39;00m\n\u001b[0;32m    158\u001b[0m     \u001b[38;5;28;01mreturn\u001b[39;00m exc \u001b[38;5;129;01mis\u001b[39;00m \u001b[38;5;129;01mnot\u001b[39;00m value\n",
      "File \u001b[1;32mc:\\Users\\ayush\\anaconda3\\envs\\morph\\lib\\site-packages\\httpcore\\_exceptions.py:12\u001b[0m, in \u001b[0;36mmap_exceptions\u001b[1;34m(map)\u001b[0m\n\u001b[0;32m     10\u001b[0m \u001b[38;5;28;01mfor\u001b[39;00m from_exc, to_exc \u001b[38;5;129;01min\u001b[39;00m \u001b[38;5;28mmap\u001b[39m\u001b[38;5;241m.\u001b[39mitems():\n\u001b[0;32m     11\u001b[0m     \u001b[38;5;28;01mif\u001b[39;00m \u001b[38;5;28misinstance\u001b[39m(exc, from_exc):\n\u001b[1;32m---> 12\u001b[0m         \u001b[38;5;28;01mraise\u001b[39;00m to_exc(exc) \u001b[38;5;28;01mfrom\u001b[39;00m \u001b[38;5;28mNone\u001b[39m\n\u001b[0;32m     13\u001b[0m \u001b[38;5;28;01mraise\u001b[39;00m\n",
      "\u001b[1;31mReadTimeout\u001b[0m: The read operation timed out"
     ]
    }
   ],
   "source": [
    "records_translated = pd.DataFrame(columns=records_translate.columns)\n",
    "batch_size = 1\n",
    "start = 0\n",
    "for batch in tqdm(range(start,len(records_translate))):\n",
    "    # print(f'Batch -> [{batch},{batch+batch_size}]')\n",
    "    temp_df = records_translate.iloc[batch:batch+batch_size,:].copy()\n",
    "    temp_df['to_translate'] = temp_df['to_translate'].apply(translator_v2)\n",
    "    # for col in cols_to_translate:\n",
    "    #     # print(f'Translating {col}')\n",
    "    #     temp_df[col] = temp_df[col].apply(lambda x: translator(x,source='hi'))\n",
    "    #     # print(f'Done')\n",
    "    records_translated = pd.concat([records_translated,temp_df])\n",
    "records_translated.rename(columns={'Will write':'buyer_name','Will write down':'seller_name'},inplace=True)"
   ]
  },
  {
   "cell_type": "code",
   "execution_count": 42,
   "metadata": {},
   "outputs": [],
   "source": [
    "records_translated_og = records_translated.copy()"
   ]
  },
  {
   "cell_type": "code",
   "execution_count": 43,
   "metadata": {},
   "outputs": [],
   "source": [
    "cols_to_translate = [\n",
    "    'diarrhea type',\n",
    "    'Du. Prohibit. Office',\n",
    "    'buyer_name', \n",
    "    'seller_name', \n",
    "    'Other information'\n",
    "    ]\n",
    "\n",
    "records_translated[cols_to_translate] = records_translated['to_translate'].apply(lambda x: pd.Series(x.split('__$__')))"
   ]
  },
  {
   "cell_type": "code",
   "execution_count": 44,
   "metadata": {},
   "outputs": [
    {
     "data": {
      "text/html": [
       "<div>\n",
       "<style scoped>\n",
       "    .dataframe tbody tr th:only-of-type {\n",
       "        vertical-align: middle;\n",
       "    }\n",
       "\n",
       "    .dataframe tbody tr th {\n",
       "        vertical-align: top;\n",
       "    }\n",
       "\n",
       "    .dataframe thead th {\n",
       "        text-align: right;\n",
       "    }\n",
       "</style>\n",
       "<table border=\"1\" class=\"dataframe\">\n",
       "  <thead>\n",
       "    <tr style=\"text-align: right;\">\n",
       "      <th></th>\n",
       "      <th>index</th>\n",
       "      <th>Sl no.</th>\n",
       "      <th>Diarrhea no.</th>\n",
       "      <th>diarrhea type</th>\n",
       "      <th>Du. Prohibit. Office</th>\n",
       "      <th>Year</th>\n",
       "      <th>buyer_name</th>\n",
       "      <th>seller_name</th>\n",
       "      <th>Other information</th>\n",
       "      <th>List no. 2</th>\n",
       "      <th>to_translate</th>\n",
       "    </tr>\n",
       "  </thead>\n",
       "  <tbody>\n",
       "    <tr>\n",
       "      <th>0</th>\n",
       "      <td>0</td>\n",
       "      <td>1</td>\n",
       "      <td>13217</td>\n",
       "      <td>Rent lease</td>\n",
       "      <td>cum d.n. Andheri 7</td>\n",
       "      <td>25/07/2023</td>\n",
       "      <td>1) Bhavin Sheth, Authorized Trustee on behalf ...</td>\n",
       "      <td>1) Hanmant Dhanvare, Executive Engineer, Mahar...</td>\n",
       "      <td>1) Other information: Piece or parcel of land ...</td>\n",
       "      <td>https://pay2igr.igrmaharashtra.gov.in/eDisplay...</td>\n",
       "      <td>Rent lease__$__cum d.n. Andheri 7__$__1) Bhavi...</td>\n",
       "    </tr>\n",
       "    <tr>\n",
       "      <th>1</th>\n",
       "      <td>1</td>\n",
       "      <td>2</td>\n",
       "      <td>4286</td>\n",
       "      <td>Development Agreement</td>\n",
       "      <td>Co. Andheri 7</td>\n",
       "      <td>10/03/2023</td>\n",
       "      <td>1) Ajit Singh Kartar Singh Chandok</td>\n",
       "      <td>1) Paresh Ranchod Patel, Partner, Navish Realt...</td>\n",
       "      <td>1) Other information: Land and construction, p...</td>\n",
       "      <td>https://pay2igr.igrmaharashtra.gov.in/eDisplay...</td>\n",
       "      <td>Development Agreement__$__Co. Andheri 7__$__1)...</td>\n",
       "    </tr>\n",
       "    <tr>\n",
       "      <th>2</th>\n",
       "      <td>2</td>\n",
       "      <td>3</td>\n",
       "      <td>2449</td>\n",
       "      <td>Sale Deed</td>\n",
       "      <td>Co Dn. Andheri 7</td>\n",
       "      <td>09/02/2023</td>\n",
       "      <td>1) Nupur Anil Kalke Mukhtyar Shaila Anil Kalke...</td>\n",
       "      <td>1) Harsh Satpal Malhotra</td>\n",
       "      <td>1) Other Information: House No: 701, Floor No:...</td>\n",
       "      <td>https://pay2igr.igrmaharashtra.gov.in/eDisplay...</td>\n",
       "      <td>Sale Deed__$__Co Dn. Andheri 7__$__1) Nupur An...</td>\n",
       "    </tr>\n",
       "    <tr>\n",
       "      <th>3</th>\n",
       "      <td>3</td>\n",
       "      <td>4</td>\n",
       "      <td>8691</td>\n",
       "      <td>66-Notice of Lis Pendency</td>\n",
       "      <td>cum. Andheri 7</td>\n",
       "      <td>22/05/2023</td>\n",
       "      <td>1) Pradeep Soni</td>\n",
       "      <td></td>\n",
       "      <td>1) Other Information: City Civil Court at Dind...</td>\n",
       "      <td>https://pay2igr.igrmaharashtra.gov.in/eDisplay...</td>\n",
       "      <td>66-Notice of Lis Pendency__$__cum. Andheri 7__...</td>\n",
       "    </tr>\n",
       "    <tr>\n",
       "      <th>4</th>\n",
       "      <td>4</td>\n",
       "      <td>5</td>\n",
       "      <td>3551</td>\n",
       "      <td>65-Mistake Correction Letter</td>\n",
       "      <td>with D.N. Andheri 7</td>\n",
       "      <td>27/02/2023</td>\n",
       "      <td>1) Gunjan Yogeet Kapoor\\n2) Tushar Subhash Oberoi</td>\n",
       "      <td>1) Shama Subhash Oberoi</td>\n",
       "      <td>1) House No: 201, Mala No: 2, Building Boat: O...</td>\n",
       "      <td>https://pay2igr.igrmaharashtra.gov.in/eDisplay...</td>\n",
       "      <td>65-Mistake Correction Letter__$__with D.N. And...</td>\n",
       "    </tr>\n",
       "    <tr>\n",
       "      <th>...</th>\n",
       "      <td>...</td>\n",
       "      <td>...</td>\n",
       "      <td>...</td>\n",
       "      <td>...</td>\n",
       "      <td>...</td>\n",
       "      <td>...</td>\n",
       "      <td>...</td>\n",
       "      <td>...</td>\n",
       "      <td>...</td>\n",
       "      <td>...</td>\n",
       "      <td>...</td>\n",
       "    </tr>\n",
       "    <tr>\n",
       "      <th>1204</th>\n",
       "      <td>1204</td>\n",
       "      <td>1205</td>\n",
       "      <td>3173</td>\n",
       "      <td>Live Ad Licenses</td>\n",
       "      <td>Co D.N. ANDHERI 7</td>\n",
       "      <td>20/02/2023</td>\n",
       "      <td>1) COELHO NOALA</td>\n",
       "      <td>1) MUHAMMAD KUNHI K C</td>\n",
       "      <td>1) FLAT NO:35/A, MLA NO:1ST FLOOR, BUILDING NO...</td>\n",
       "      <td>https://pay2igr.igrmaharashtra.gov.in/eDisplay...</td>\n",
       "      <td>Live Ad Licenses__$__Co D.N. ANDHERI 7__$__1) ...</td>\n",
       "    </tr>\n",
       "    <tr>\n",
       "      <th>1205</th>\n",
       "      <td>1205</td>\n",
       "      <td>1206</td>\n",
       "      <td>2531</td>\n",
       "      <td>Agreement</td>\n",
       "      <td>Co.D. Andheri 7</td>\n",
       "      <td>13/02/2023</td>\n",
       "      <td>1) Chandresh Mehta, Director of Keystone Realt...</td>\n",
       "      <td>1) Rashmi Satish Kewalramani.\\n2) Varun Satish...</td>\n",
       "      <td>1) Other Information: Real Estate Project-\\\"Ru...</td>\n",
       "      <td>https://pay2igr.igrmaharashtra.gov.in/eDisplay...</td>\n",
       "      <td>Agreement__$__Co.D. Andheri 7__$__1) Chandresh...</td>\n",
       "    </tr>\n",
       "    <tr>\n",
       "      <th>1206</th>\n",
       "      <td>1206</td>\n",
       "      <td>1207</td>\n",
       "      <td>2863</td>\n",
       "      <td>Live Ad Licenses</td>\n",
       "      <td>Co D.N. Andheri 7</td>\n",
       "      <td>15/02/2023</td>\n",
       "      <td>1) Faisal Abdul Rahim Ghori</td>\n",
       "      <td>1) Jeram Chamadia (HUF) Laxman</td>\n",
       "      <td>1) Flat No:Garage No.1, Floor No:Ground, Build...</td>\n",
       "      <td>https://pay2igr.igrmaharashtra.gov.in/eDisplay...</td>\n",
       "      <td>Live Ad Licenses__$__Co D.N. Andheri 7__$__1) ...</td>\n",
       "    </tr>\n",
       "    <tr>\n",
       "      <th>1207</th>\n",
       "      <td>1207</td>\n",
       "      <td>1208</td>\n",
       "      <td>2506</td>\n",
       "      <td>Release Deed</td>\n",
       "      <td>Co Dn. Andheri 7</td>\n",
       "      <td>10/02/2023</td>\n",
       "      <td>1) Monisha Rahim Harjee alias Monisha B.Charan...</td>\n",
       "      <td>1) Karim B. Charaniya</td>\n",
       "      <td>1) House No: 1201, Floor No: Barawa Majla, Bui...</td>\n",
       "      <td>https://pay2igr.igrmaharashtra.gov.in/eDisplay...</td>\n",
       "      <td>Release Deed__$__Co Dn. Andheri 7__$__1) Monis...</td>\n",
       "    </tr>\n",
       "    <tr>\n",
       "      <th>1208</th>\n",
       "      <td>1208</td>\n",
       "      <td>1209</td>\n",
       "      <td>6172</td>\n",
       "      <td>Deed of Transfer</td>\n",
       "      <td>Co.D. Andheri 7</td>\n",
       "      <td>11/04/2023</td>\n",
       "      <td>1) Mr. Ashish Nalwaya, Partner, on behalf of S...</td>\n",
       "      <td>1) Mr. Pratyush Bharatiya, Partner, on behalf ...</td>\n",
       "      <td>1) Other Information: Total area of ​​land and...</td>\n",
       "      <td>https://pay2igr.igrmaharashtra.gov.in/eDisplay...</td>\n",
       "      <td>Deed of Transfer__$__Co.D. Andheri 7__$__1) Mr...</td>\n",
       "    </tr>\n",
       "  </tbody>\n",
       "</table>\n",
       "<p>1209 rows × 11 columns</p>\n",
       "</div>"
      ],
      "text/plain": [
       "     index Sl no. Diarrhea no.                 diarrhea type  \\\n",
       "0        0      1        13217                    Rent lease   \n",
       "1        1      2         4286         Development Agreement   \n",
       "2        2      3         2449                     Sale Deed   \n",
       "3        3      4         8691     66-Notice of Lis Pendency   \n",
       "4        4      5         3551  65-Mistake Correction Letter   \n",
       "...    ...    ...          ...                           ...   \n",
       "1204  1204   1205         3173              Live Ad Licenses   \n",
       "1205  1205   1206         2531                     Agreement   \n",
       "1206  1206   1207         2863              Live Ad Licenses   \n",
       "1207  1207   1208         2506                  Release Deed   \n",
       "1208  1208   1209         6172              Deed of Transfer   \n",
       "\n",
       "     Du. Prohibit. Office        Year  \\\n",
       "0      cum d.n. Andheri 7  25/07/2023   \n",
       "1           Co. Andheri 7  10/03/2023   \n",
       "2        Co Dn. Andheri 7  09/02/2023   \n",
       "3          cum. Andheri 7  22/05/2023   \n",
       "4     with D.N. Andheri 7  27/02/2023   \n",
       "...                   ...         ...   \n",
       "1204    Co D.N. ANDHERI 7  20/02/2023   \n",
       "1205      Co.D. Andheri 7  13/02/2023   \n",
       "1206    Co D.N. Andheri 7  15/02/2023   \n",
       "1207     Co Dn. Andheri 7  10/02/2023   \n",
       "1208      Co.D. Andheri 7  11/04/2023   \n",
       "\n",
       "                                             buyer_name  \\\n",
       "0     1) Bhavin Sheth, Authorized Trustee on behalf ...   \n",
       "1                    1) Ajit Singh Kartar Singh Chandok   \n",
       "2     1) Nupur Anil Kalke Mukhtyar Shaila Anil Kalke...   \n",
       "3                                       1) Pradeep Soni   \n",
       "4     1) Gunjan Yogeet Kapoor\\n2) Tushar Subhash Oberoi   \n",
       "...                                                 ...   \n",
       "1204                                    1) COELHO NOALA   \n",
       "1205  1) Chandresh Mehta, Director of Keystone Realt...   \n",
       "1206                        1) Faisal Abdul Rahim Ghori   \n",
       "1207  1) Monisha Rahim Harjee alias Monisha B.Charan...   \n",
       "1208  1) Mr. Ashish Nalwaya, Partner, on behalf of S...   \n",
       "\n",
       "                                            seller_name  \\\n",
       "0     1) Hanmant Dhanvare, Executive Engineer, Mahar...   \n",
       "1     1) Paresh Ranchod Patel, Partner, Navish Realt...   \n",
       "2                              1) Harsh Satpal Malhotra   \n",
       "3                                                         \n",
       "4                               1) Shama Subhash Oberoi   \n",
       "...                                                 ...   \n",
       "1204                              1) MUHAMMAD KUNHI K C   \n",
       "1205  1) Rashmi Satish Kewalramani.\\n2) Varun Satish...   \n",
       "1206                     1) Jeram Chamadia (HUF) Laxman   \n",
       "1207                              1) Karim B. Charaniya   \n",
       "1208  1) Mr. Pratyush Bharatiya, Partner, on behalf ...   \n",
       "\n",
       "                                      Other information  \\\n",
       "0     1) Other information: Piece or parcel of land ...   \n",
       "1     1) Other information: Land and construction, p...   \n",
       "2     1) Other Information: House No: 701, Floor No:...   \n",
       "3     1) Other Information: City Civil Court at Dind...   \n",
       "4     1) House No: 201, Mala No: 2, Building Boat: O...   \n",
       "...                                                 ...   \n",
       "1204  1) FLAT NO:35/A, MLA NO:1ST FLOOR, BUILDING NO...   \n",
       "1205  1) Other Information: Real Estate Project-\\\"Ru...   \n",
       "1206  1) Flat No:Garage No.1, Floor No:Ground, Build...   \n",
       "1207  1) House No: 1201, Floor No: Barawa Majla, Bui...   \n",
       "1208  1) Other Information: Total area of ​​land and...   \n",
       "\n",
       "                                             List no. 2  \\\n",
       "0     https://pay2igr.igrmaharashtra.gov.in/eDisplay...   \n",
       "1     https://pay2igr.igrmaharashtra.gov.in/eDisplay...   \n",
       "2     https://pay2igr.igrmaharashtra.gov.in/eDisplay...   \n",
       "3     https://pay2igr.igrmaharashtra.gov.in/eDisplay...   \n",
       "4     https://pay2igr.igrmaharashtra.gov.in/eDisplay...   \n",
       "...                                                 ...   \n",
       "1204  https://pay2igr.igrmaharashtra.gov.in/eDisplay...   \n",
       "1205  https://pay2igr.igrmaharashtra.gov.in/eDisplay...   \n",
       "1206  https://pay2igr.igrmaharashtra.gov.in/eDisplay...   \n",
       "1207  https://pay2igr.igrmaharashtra.gov.in/eDisplay...   \n",
       "1208  https://pay2igr.igrmaharashtra.gov.in/eDisplay...   \n",
       "\n",
       "                                           to_translate  \n",
       "0     Rent lease__$__cum d.n. Andheri 7__$__1) Bhavi...  \n",
       "1     Development Agreement__$__Co. Andheri 7__$__1)...  \n",
       "2     Sale Deed__$__Co Dn. Andheri 7__$__1) Nupur An...  \n",
       "3     66-Notice of Lis Pendency__$__cum. Andheri 7__...  \n",
       "4     65-Mistake Correction Letter__$__with D.N. And...  \n",
       "...                                                 ...  \n",
       "1204  Live Ad Licenses__$__Co D.N. ANDHERI 7__$__1) ...  \n",
       "1205  Agreement__$__Co.D. Andheri 7__$__1) Chandresh...  \n",
       "1206  Live Ad Licenses__$__Co D.N. Andheri 7__$__1) ...  \n",
       "1207  Release Deed__$__Co Dn. Andheri 7__$__1) Monis...  \n",
       "1208  Deed of Transfer__$__Co.D. Andheri 7__$__1) Mr...  \n",
       "\n",
       "[1209 rows x 11 columns]"
      ]
     },
     "execution_count": 44,
     "metadata": {},
     "output_type": "execute_result"
    }
   ],
   "source": [
    "records_translated_og"
   ]
  },
  {
   "cell_type": "code",
   "execution_count": 10,
   "metadata": {},
   "outputs": [],
   "source": [
    "# del os.environ['PYSPARK_PYTHON'] \n",
    "# del os.environ['PYSPARK_DRIVER_PYTHON'] \n",
    "os.environ['PYSPARK_PYTHON'] = sys.executable \n",
    "os.environ['PYSPARK_DRIVER_PYTHON'] = sys.executable"
   ]
  },
  {
   "cell_type": "code",
   "execution_count": 72,
   "metadata": {},
   "outputs": [],
   "source": [
    "spark.stop()\n",
    "del spark"
   ]
  },
  {
   "cell_type": "code",
   "execution_count": 11,
   "metadata": {},
   "outputs": [
    {
     "data": {
      "text/html": [
       "\n",
       "            <div>\n",
       "                <p><b>SparkSession - in-memory</b></p>\n",
       "                \n",
       "        <div>\n",
       "            <p><b>SparkContext</b></p>\n",
       "\n",
       "            <p><a href=\"http://FoxFace:4040\">Spark UI</a></p>\n",
       "\n",
       "            <dl>\n",
       "              <dt>Version</dt>\n",
       "                <dd><code>v3.5.0</code></dd>\n",
       "              <dt>Master</dt>\n",
       "                <dd><code>local[*]</code></dd>\n",
       "              <dt>AppName</dt>\n",
       "                <dd><code>pyspark-shell</code></dd>\n",
       "            </dl>\n",
       "        </div>\n",
       "        \n",
       "            </div>\n",
       "        "
      ],
      "text/plain": [
       "<pyspark.sql.session.SparkSession at 0x1cc5b57e5f0>"
      ]
     },
     "execution_count": 11,
     "metadata": {},
     "output_type": "execute_result"
    }
   ],
   "source": [
    "# Approach Via Spark\n",
    "spark = SparkSession.builder.getOrCreate()\n",
    "# spark = SparkSession.builder \\\n",
    "#         .config('spark.executor.instances', 4) \\\n",
    "#         .config(\"spark.sql.execution.arrow.enabled\", \"true\") \\\n",
    "#         .config(\"spark.dynamicAllocation.enabled\", \"true\") \\\n",
    "#         .config(\"spark.dynamicAllocation.minExecutors\",\"1\") \\\n",
    "#         .config(\"spark.dynamicAllocation.maxExecutors\",\"5\") \\\n",
    "#         .config(\"spark.executor.cores\",6) \\\n",
    "#         .config(\"spark.executor.memory\",\"2g\") \\\n",
    "#         .getOrCreate()\n",
    "# spark.conf.set(\"spark.sql.execution.arrow.enabled\", \"true\")\n",
    "# #spark.conf.set(\"spark.dynamicAllocation.enabled\", \"true\")\n",
    "# spark.conf.set(\"spark.executor.cores\", 4)\n",
    "# spark.conf.set(\"spark.dynamicAllocation.minExecutors\",\"1\")\n",
    "# spark.conf.set(\"spark.dynamicAllocation.maxExecutors\",\"5\")\n",
    "# conf = spark.sparkContext.getConf()\n",
    "spark"
   ]
  },
  {
   "cell_type": "code",
   "execution_count": 110,
   "metadata": {},
   "outputs": [],
   "source": [
    "del spark_df"
   ]
  },
  {
   "cell_type": "code",
   "execution_count": 12,
   "metadata": {},
   "outputs": [],
   "source": [
    "#Get the Data from SQL directly\n",
    "host = '127.0.0.1'\n",
    "port = '5432'\n",
    "database = 'propReturns'\n",
    "username = 'postgres'\n",
    "password = 'Sunrise12345'\n",
    "url = f\"jdbc:postgresql://{host}:{port}/{database}\"\n",
    "table_name = 'record_details_raw'\n",
    "\n",
    "engine = create_engine(f'postgresql://{username}:{password}@{host}:{port}/{database}')\n",
    "\n",
    "spark_df = spark.read.format(\"jdbc\") \\\n",
    "        .option(\"url\", url) \\\n",
    "        .option(\"driver\", \"org.postgresql.Driver\") \\\n",
    "        .option(\"dbtable\", table_name) \\\n",
    "        .option(\"user\", username) \\\n",
    "        .option(\"password\", password).load()\n",
    "\n",
    "records_raw = pd.read_sql('record_details_raw',engine)"
   ]
  },
  {
   "cell_type": "code",
   "execution_count": 13,
   "metadata": {},
   "outputs": [],
   "source": [
    "new_names = []\n",
    "for col in records_raw.columns:\n",
    "    new_names.append(translator(col,source='auto'))\n",
    "\n",
    "new_names = [x.replace('.','') for x in new_names]\n",
    "spark_df = spark_df.toDF(*new_names)\n",
    "spark_df = spark_df.withColumnRenamed(existing='Will write',new='buyer_name')\n",
    "spark_df = spark_df.withColumnRenamed(existing='Will write down',new='seller_name')"
   ]
  },
  {
   "cell_type": "code",
   "execution_count": 14,
   "metadata": {},
   "outputs": [
    {
     "name": "stdout",
     "output_type": "stream",
     "text": [
      "+-----+-----+-----------+--------------------+------------------+----------+--------------------+--------------------+--------------------+--------------------+\n",
      "|index|Sl no|Diarrhea no|       diarrhea type|Du Prohibit Office|      Year|          buyer_name|         seller_name|   Other information|           List no 2|\n",
      "+-----+-----+-----------+--------------------+------------------+----------+--------------------+--------------------+--------------------+--------------------+\n",
      "|    0|    1|      13217|           भाडेपट्टा|सह दु.नि. अंधेरी 7|25/07/2023|1) श्रीमती चंद्रक...|1) महाराष्ट़ हाऊस...|1) इतर माहिती: पि...|https://pay2igr.i...|\n",
      "|    1|    2|       4286|       विकसनकरारनामा|सह दु.नि. अंधेरी 7|10/03/2023|1) अजित सिंह करता...|1) नाविश रियल्टी ...|1) इतर माहिती: जम...|https://pay2igr.i...|\n",
      "|    2|    3|       2449|             सेल डीड|सह दु.नि. अंधेरी 7|09/02/2023|1) नूपुर अनिल कळक...|1) हर्ष सतपाल मल्...|1) इतर माहिती: सद...|https://pay2igr.i...|\n",
      "|    3|    4|       8691|66-नोटीस ऑफ़ लिस प...|सह दु.नि. अंधेरी 7|22/05/2023|      1) प्रदीप सोनी|                    |1) इतर माहिती: सि...|https://pay2igr.i...|\n",
      "|    4|    5|       3551|65-चुक दुरुस्ती पत्र|सह दु.नि. अंधेरी 7|27/02/2023|1) गुंजन योगीत कप...|1) शामा सुभाष ओबेराय|1) सदनिका नं: 201...|https://pay2igr.i...|\n",
      "|    5|    6|       8043|डेव्हलपमेंट अँग्र...|सह दु.नि. अंधेरी 7|19/05/2023|1) राधिका खंडेलवा...|1) व्हीबीएचडीसी ब...|1) इतर माहिती: जम...|https://pay2igr.i...|\n",
      "|   12|   13|       7415|       विकसनकरारनामा|सह दु.नि. अंधेरी 7|02/05/2023|1) सोसायटी मेंबर ...|1) इंस्पायरा बिल्...|1) इतर माहिती: जम...|https://pay2igr.i...|\n",
      "|    6|    7|       5454|           भाडेपट्टा|सह दु.नि. अंधेरी 7|29/03/2023|1) नियोजन को ऑपरे...|1) मुंबई हाऊसिंग ...|1) सदनिका नं: प्ल...|https://pay2igr.i...|\n",
      "|    7|    8|       7732|    अभिहस्तांतरणपत्र|सह दु.नि. अंधेरी 7|04/05/2023|1) मे एकता सुप्री...|1) युडोरा कॉ ऑप ह...|1) इतर माहिती: इम...|https://pay2igr.i...|\n",
      "|    8|    9|       5457|           भाडेपट्टा|सह दु.नि. अंधेरी 7|29/03/2023|1) साई दत्त प्रसा...|1) मुंबई हाऊसिंग ...|1) सदनिका नं: प्ल...|https://pay2igr.i...|\n",
      "|    9|   10|       8896|65-चुक दुरुस्ती पत्र|सह दु.नि. अंधेरी 7|24/05/2023|1) . . गोपाल नारा...|1) . . श्रीधर गोप...|1) इतर माहिती: सद...|https://pay2igr.i...|\n",
      "|   10|   11|       2389|       प्रतिज्ञापत्र|सह दु.नि. अंधेरी 7|08/02/2023|1) गांघी नगर गणेश...|                    |1) इतर माहिती: re...|https://pay2igr.i...|\n",
      "|   11|   12|       8895|65-चुक दुरुस्ती पत्र|सह दु.नि. अंधेरी 7|24/05/2023|1) . . गोपाल नारा...|1) . . नेहा गोपाल...|1) इतर माहिती: सद...|https://pay2igr.i...|\n",
      "|   13|   14|        212|             सेल डीड|सह दु.नि. अंधेरी 7|04/01/2023|1) पुष्पा बी रहेज...|1) कलश दिलीप सुरा...|1) सदनिका नं: 501...|https://pay2igr.i...|\n",
      "|   14|   15|       7019|डेव्हलपमेंट अँग्र...|सह दु.नि. अंधेरी 7|21/04/2023|1) मिशेल देसाई पू...|1) किऑर्बिट रिअल्...|1) इतर माहिती: जम...|https://pay2igr.i...|\n",
      "|   15|   16|       5868|डेव्हलपमेंट अँग्र...|सह दु.नि. अंधेरी 7|12/04/2023|1) बांद्रा विनय क...|1) डायनास्टी इन्फ...|1) इतर माहिती: जम...|https://pay2igr.i...|\n",
      "|   16|   17|       5450|              लीजडीड|सह दु.नि. अंधेरी 7|29/03/2023|1) दि एम आय जी को...|1) (मालक ) महाराष...|1) इतर माहिती: टी...|https://pay2igr.i...|\n",
      "|   17|   18|       3753|             सेल डीड|सह दु.नि. अंधेरी 7|01/03/2023|1) राहुल विनायक ड...|1) रमेशकुमार मानक...|1) सदनिका नं: 801...|https://pay2igr.i...|\n",
      "|   18|   19|       8517|66-नोटीस ऑफ़ लिस प...|सह दु.नि. अंधेरी 7|18/05/2023|1) व्हिज एंटरप्रा...|                    |1) सदनिका नं: 602...|https://pay2igr.i...|\n",
      "|   49|   50|        496| लिव्ह अॅड लायसन्सेस|सह दु.नि. अंधेरी 7|10/01/2023|1) लीना किरण निसा...|1) रैलोगिक कंट्रो...|1) फ़्लॅट नं:एल जी...|https://pay2igr.i...|\n",
      "+-----+-----+-----------+--------------------+------------------+----------+--------------------+--------------------+--------------------+--------------------+\n",
      "only showing top 20 rows\n",
      "\n"
     ]
    }
   ],
   "source": [
    "spark_df.show()"
   ]
  },
  {
   "cell_type": "code",
   "execution_count": 15,
   "metadata": {},
   "outputs": [],
   "source": [
    "spark_df = spark_df.withColumn(\"to_translate\",sf.concat(sf.col(\"diarrhea type\"),sf.lit('$'),\n",
    "                                          sf.col('Du Prohibit Office'),sf.lit('$'),\n",
    "                                          sf.col('buyer_name'),sf.lit('$'),\n",
    "                                          sf.col('seller_name'),sf.lit('$'),\n",
    "                                          sf.col('Other information')))"
   ]
  },
  {
   "cell_type": "code",
   "execution_count": 16,
   "metadata": {},
   "outputs": [],
   "source": [
    "spark_df = spark_df.withColumn('to_translate',translate_udf(spark_df['to_translate']))"
   ]
  },
  {
   "cell_type": "code",
   "execution_count": 17,
   "metadata": {},
   "outputs": [
    {
     "name": "stdout",
     "output_type": "stream",
     "text": [
      "+--------------------+\n",
      "|               check|\n",
      "+--------------------+\n",
      "|  cum D.N. Andheri 7|\n",
      "| with World Healt...|\n",
      "|   cum Dn. Andheri 7|\n",
      "|  cum D.N. Andheri 7|\n",
      "|  cum D.N. Andheri 7|\n",
      "|       co. Andheri 7|\n",
      "|  सह दु.नि. अंधेरी 7|\n",
      "|  cum D.N. Andheri 7|\n",
      "| with D.O. Andheri 7|\n",
      "|  cum D.N. Andheri 7|\n",
      "|  cum D.N. Andheri 7|\n",
      "|  cum D.N. Andheri 7|\n",
      "|  cum D.N. Andheri 7|\n",
      "|   cum Dn. Andheri 7|\n",
      "|       co. Andheri 7|\n",
      "|  सह दु.नि. अंधेरी 7|\n",
      "|   co d.n. Andheri 7|\n",
      "|   cum Dn. Andheri 7|\n",
      "|  cum D.N. Andheri 7|\n",
      "|     co.in Andheri 7|\n",
      "+--------------------+\n",
      "only showing top 20 rows\n",
      "\n"
     ]
    }
   ],
   "source": [
    "spark_df.withColumn('check',sf.split(spark_df['to_translate'],'\\\\$').getItem(1)).select('check').show()"
   ]
  },
  {
   "cell_type": "code",
   "execution_count": 21,
   "metadata": {},
   "outputs": [],
   "source": [
    "spark_df = spark_df.withColumn('diarrhea type',sf.split(spark_df['to_translate'],'\\\\$')[0])\\\n",
    "        .withColumn('Du Prohibit Office',sf.split(spark_df['to_translate'],'\\\\$')[1])\\\n",
    "        .withColumn('buyer_name',sf.split(spark_df['to_translate'],'\\\\$')[2])\\\n",
    "        .withColumn('seller_name',sf.split(spark_df['to_translate'],'\\\\$')[3])\\\n",
    "        .withColumn('Other information',sf.split(spark_df['to_translate'],'\\\\$')[4])"
   ]
  },
  {
   "cell_type": "code",
   "execution_count": 23,
   "metadata": {},
   "outputs": [],
   "source": [
    "table_name_sink = 'record_details_translated'\n",
    "\n",
    "spark_df.select(\"*\").write.format(\"jdbc\")\\\n",
    "    .option(\"url\", url) \\\n",
    "    .option(\"driver\", \"org.postgresql.Driver\") \\\n",
    "    .option(\"dbtable\", table_name_sink) \\\n",
    "    .option(\"user\", username) \\\n",
    "    .option(\"password\", password).save()"
   ]
  },
  {
   "cell_type": "markdown",
   "metadata": {},
   "source": [
    "# PDF PART"
   ]
  },
  {
   "cell_type": "code",
   "execution_count": 11,
   "metadata": {},
   "outputs": [],
   "source": [
    "#Get the Data from SQL directly\n",
    "host = '127.0.0.1'\n",
    "port = '5432'\n",
    "database = 'propReturns'\n",
    "username = 'postgres'\n",
    "password = 'Sunrise12345'\n",
    "url = f\"jdbc:postgresql://{host}:{port}/{database}\"\n",
    "table_name = 'record_details_translated_v2'\n",
    "\n",
    "engine = create_engine(f'postgresql://{username}:{password}@{host}:{port}/{database}')\n",
    "\n",
    "# spark_df = spark.read.format(\"jdbc\") \\\n",
    "#         .option(\"url\", url) \\\n",
    "#         .option(\"driver\", \"org.postgresql.Driver\") \\\n",
    "#         .option(\"dbtable\", table_name) \\\n",
    "#         .option(\"user\", username) \\\n",
    "#         .option(\"password\", password).load()\n",
    "\n",
    "records_translated = pd.read_sql('record_details_translated_v2',engine)"
   ]
  },
  {
   "cell_type": "code",
   "execution_count": 14,
   "metadata": {},
   "outputs": [
    {
     "data": {
      "text/plain": [
       "Index(['index', 'Sl no', 'Diarrhea no', 'diarrhea type', 'Du Prohibit Office',\n",
       "       'Year', 'buyer_name', 'seller_name', 'Other information', 'List no 2'],\n",
       "      dtype='object')"
      ]
     },
     "execution_count": 14,
     "metadata": {},
     "output_type": "execute_result"
    }
   ],
   "source": [
    "records_translated.columns"
   ]
  },
  {
   "cell_type": "code",
   "execution_count": 4,
   "metadata": {},
   "outputs": [],
   "source": [
    "import urllib.request\n",
    "import ssl\n",
    "\n",
    "# This restores the same behavior as before.\n",
    "context = ssl._create_unverified_context()\n",
    "# urllib.urlopen(\"https://no-valid-cert\", context=context)\n",
    "pdf_path = \"https://pay2igr.igrmaharashtra.gov.in/eDisplay/propertydetails/indexii/Mw%3D%3D/MDUxNDA1MzY5OTAwMDAwNDI4NjIwMjNJUw%3D%3D\"\n",
    "def download_file(download_url, filename):\n",
    "    response = urllib.request.urlopen(download_url,context=context)    \n",
    "    file = open(filename + \".pdf\", 'wb')\n",
    "    file.write(response.read())\n",
    "    file.close()\n",
    " \n",
    "download_file(download_url=pdf_path, filename=\"Test\")"
   ]
  },
  {
   "cell_type": "code",
   "execution_count": 18,
   "metadata": {},
   "outputs": [
    {
     "name": "stdout",
     "output_type": "stream",
     "text": [
      "Batch -> [0,100]\n"
     ]
    },
    {
     "name": "stderr",
     "output_type": "stream",
     "text": [
      "100it [01:39,  1.01it/s]\n"
     ]
    },
    {
     "name": "stdout",
     "output_type": "stream",
     "text": [
      "Batch -> [100,200]\n"
     ]
    },
    {
     "name": "stderr",
     "output_type": "stream",
     "text": [
      "100it [01:45,  1.06s/it]\n"
     ]
    },
    {
     "name": "stdout",
     "output_type": "stream",
     "text": [
      "Batch -> [200,300]\n"
     ]
    },
    {
     "name": "stderr",
     "output_type": "stream",
     "text": [
      "100it [01:34,  1.06it/s]\n"
     ]
    },
    {
     "name": "stdout",
     "output_type": "stream",
     "text": [
      "Batch -> [300,400]\n"
     ]
    },
    {
     "name": "stderr",
     "output_type": "stream",
     "text": [
      "100it [01:35,  1.05it/s]\n"
     ]
    },
    {
     "name": "stdout",
     "output_type": "stream",
     "text": [
      "Batch -> [400,500]\n"
     ]
    },
    {
     "name": "stderr",
     "output_type": "stream",
     "text": [
      "100it [01:32,  1.08it/s]\n"
     ]
    },
    {
     "name": "stdout",
     "output_type": "stream",
     "text": [
      "Batch -> [500,600]\n"
     ]
    },
    {
     "name": "stderr",
     "output_type": "stream",
     "text": [
      "100it [01:34,  1.06it/s]\n"
     ]
    },
    {
     "name": "stdout",
     "output_type": "stream",
     "text": [
      "Batch -> [600,700]\n"
     ]
    },
    {
     "name": "stderr",
     "output_type": "stream",
     "text": [
      "100it [01:30,  1.10it/s]\n"
     ]
    },
    {
     "name": "stdout",
     "output_type": "stream",
     "text": [
      "Batch -> [700,800]\n"
     ]
    },
    {
     "name": "stderr",
     "output_type": "stream",
     "text": [
      "100it [01:44,  1.04s/it]\n"
     ]
    },
    {
     "name": "stdout",
     "output_type": "stream",
     "text": [
      "Batch -> [800,900]\n"
     ]
    },
    {
     "name": "stderr",
     "output_type": "stream",
     "text": [
      "100it [01:38,  1.02it/s]\n"
     ]
    },
    {
     "name": "stdout",
     "output_type": "stream",
     "text": [
      "Batch -> [900,1000]\n"
     ]
    },
    {
     "name": "stderr",
     "output_type": "stream",
     "text": [
      "100it [02:02,  1.23s/it]\n"
     ]
    },
    {
     "name": "stdout",
     "output_type": "stream",
     "text": [
      "Batch -> [1000,1100]\n"
     ]
    },
    {
     "name": "stderr",
     "output_type": "stream",
     "text": [
      "100it [01:39,  1.01it/s]\n"
     ]
    },
    {
     "name": "stdout",
     "output_type": "stream",
     "text": [
      "Batch -> [1100,1200]\n"
     ]
    },
    {
     "name": "stderr",
     "output_type": "stream",
     "text": [
      "100it [01:34,  1.06it/s]\n"
     ]
    },
    {
     "name": "stdout",
     "output_type": "stream",
     "text": [
      "Batch -> [1200,1300]\n"
     ]
    },
    {
     "name": "stderr",
     "output_type": "stream",
     "text": [
      "9it [00:08,  1.04it/s]\n"
     ]
    }
   ],
   "source": [
    "#Approach Via Pandas --> Just downloading the files\n",
    "batch_size = 100\n",
    "start = 0\n",
    "end = len(records_translated)\n",
    "# end = 5\n",
    "os.makedirs(\"pdfs\", exist_ok = True)\n",
    "for batch in range(start,end,batch_size):\n",
    "    print(f'Batch -> [{batch},{batch+batch_size}]')\n",
    "    temp_df = records_translated.iloc[batch:batch+batch_size,:].copy()\n",
    "    for index, row in tqdm(temp_df.iterrows()):\n",
    "        download_file(download_url=row['List no 2'], filename=f\"pdfs/{row['Sl no']}\")"
   ]
  },
  {
   "cell_type": "code",
   "execution_count": 13,
   "metadata": {},
   "outputs": [],
   "source": [
    "def curves_to_edges(cs):\n",
    "    edges = []\n",
    "    for c in cs:\n",
    "        edges += pdfplumber.utils.rect_to_edges(c)\n",
    "    return edges\n",
    "\n",
    "# Get the bounding boxes of the tables on the page.\n",
    "def not_within_bboxes(obj):\n",
    "    \"\"\"Check if the object is in any of the table's bbox.\"\"\"\n",
    "    def obj_in_bbox(_bbox):\n",
    "        \"\"\"See https://github.com/jsvine/pdfplumber/blob/stable/pdfplumber/table.py#L404\"\"\"\n",
    "        v_mid = (obj[\"top\"] + obj[\"bottom\"]) / 2\n",
    "        h_mid = (obj[\"x0\"] + obj[\"x1\"]) / 2\n",
    "        x0, top, x1, bottom = _bbox\n",
    "        return (h_mid >= x0) and (h_mid < x1) and (v_mid >= top) and (v_mid < bottom)\n",
    "    return not any(obj_in_bbox(__bbox) for __bbox in bboxes)\n"
   ]
  },
  {
   "cell_type": "code",
   "execution_count": 33,
   "metadata": {},
   "outputs": [],
   "source": [
    "save_path = r'C:\\Users\\ayush\\OneDrive\\Desktop\\Projects\\propreturns_assignment\\Mumbai_Real_Estate_Data\\pdfs\\1.pdf'\n",
    "pdf = pdfplumber.open(save_path)\n",
    "page = pdf.pages[0]\n",
    "\n",
    "table_settings = {\n",
    "    \"vertical_strategy\": \"explicit\",\n",
    "    \"horizontal_strategy\": \"explicit\",\n",
    "    \"explicit_vertical_lines\": curves_to_edges(page.curves + page.edges),\n",
    "    \"explicit_horizontal_lines\": curves_to_edges(page.curves + page.edges),\n",
    "    \"intersection_y_tolerance\": 10,\n",
    "}\n",
    "\n",
    "bboxes = [table.bbox for table in page.find_tables(table_settings=table_settings)]\n",
    "\n",
    "non_table_data = page.filter(not_within_bboxes).extract_text()\n",
    "\n",
    "table_data_in_nested_list = page.extract_table()\n",
    "cols = [\"sl_no\", \"pdf_urls\", \"save_path\", \"non_table_text\", \"table_dict\"]\n",
    "extracted_df = pd.DataFrame(columns = cols)\n",
    "table_data = {li[0]: li[1] for li in table_data_in_nested_list}\n",
    "curr_df = pd.DataFrame([[0, '', '', non_table_data, table_data]], columns = cols)\n",
    "extracted_df = pd.concat([extracted_df, curr_df],ignore_index=True)"
   ]
  },
  {
   "cell_type": "code",
   "execution_count": 116,
   "metadata": {},
   "outputs": [],
   "source": [
    "extracted_df_2 = extracted_df.copy()"
   ]
  },
  {
   "cell_type": "code",
   "execution_count": 111,
   "metadata": {},
   "outputs": [],
   "source": [
    "def translate_table(non_table_data, table_data):\n",
    "    visited = False\n",
    "    temp_dict = {}\n",
    "    temp_string = ''\n",
    "    for key, value in table_data.items():\n",
    "        combined_value = f'{key}__$__{value}' if visited else f'{key}__$__{value}__$__{non_table_data}'\n",
    "        combined_value = translator_v2(combined_value).split('__$__')\n",
    "        if not visited:\n",
    "            visited = True\n",
    "            temp_string = combined_value[2]\n",
    "        temp_dict[combined_value[0]] = combined_value[1]\n",
    "        \n",
    "    return pd.Series([temp_dict, temp_string])"
   ]
  },
  {
   "cell_type": "code",
   "execution_count": 112,
   "metadata": {},
   "outputs": [
    {
     "data": {
      "text/html": [
       "<div>\n",
       "<style scoped>\n",
       "    .dataframe tbody tr th:only-of-type {\n",
       "        vertical-align: middle;\n",
       "    }\n",
       "\n",
       "    .dataframe tbody tr th {\n",
       "        vertical-align: top;\n",
       "    }\n",
       "\n",
       "    .dataframe thead th {\n",
       "        text-align: right;\n",
       "    }\n",
       "</style>\n",
       "<table border=\"1\" class=\"dataframe\">\n",
       "  <thead>\n",
       "    <tr style=\"text-align: right;\">\n",
       "      <th></th>\n",
       "      <th>0</th>\n",
       "      <th>1</th>\n",
       "    </tr>\n",
       "  </thead>\n",
       "  <tbody>\n",
       "    <tr>\n",
       "      <th>0</th>\n",
       "      <td>{'(1)Subrogation type': 'Development agreement...</td>\n",
       "      <td>4286514 List  . 2 Second Director: Co-Dr. And...</td>\n",
       "    </tr>\n",
       "  </tbody>\n",
       "</table>\n",
       "</div>"
      ],
      "text/plain": [
       "                                                   0  \\\n",
       "0  {'(1)Subrogation type': 'Development agreement...   \n",
       "\n",
       "                                                   1  \n",
       "0  4286514 List  . 2 Second Director: Co-Dr. And...  "
      ]
     },
     "execution_count": 112,
     "metadata": {},
     "output_type": "execute_result"
    }
   ],
   "source": [
    "# extracted_df_2[[\"table_dict\", \"non_table_text\"]] = \n",
    "extracted_df_2[[\"table_dict\", \"non_table_text\"]].apply(lambda x: translate_table(x[\"non_table_text\"], x[\"table_dict\"]),axis=1)"
   ]
  },
  {
   "cell_type": "code",
   "execution_count": 117,
   "metadata": {},
   "outputs": [],
   "source": [
    "extracted_df_2 = pd.concat([extracted_df_2, extracted_df_2[[\"table_dict\", \"non_table_text\"]].apply(lambda x: translate_table(x[\"non_table_text\"], x[\"table_dict\"]),axis=1)], axis = 1)"
   ]
  },
  {
   "cell_type": "code",
   "execution_count": 124,
   "metadata": {},
   "outputs": [],
   "source": [
    "extracted_df_2 = extracted_df_2.rename(columns = {0: \"table_data\", 1: \"non_table_data\"})"
   ]
  },
  {
   "cell_type": "code",
   "execution_count": 125,
   "metadata": {},
   "outputs": [
    {
     "data": {
      "text/html": [
       "<div>\n",
       "<style scoped>\n",
       "    .dataframe tbody tr th:only-of-type {\n",
       "        vertical-align: middle;\n",
       "    }\n",
       "\n",
       "    .dataframe tbody tr th {\n",
       "        vertical-align: top;\n",
       "    }\n",
       "\n",
       "    .dataframe thead th {\n",
       "        text-align: right;\n",
       "    }\n",
       "</style>\n",
       "<table border=\"1\" class=\"dataframe\">\n",
       "  <thead>\n",
       "    <tr style=\"text-align: right;\">\n",
       "      <th></th>\n",
       "      <th>sl_no</th>\n",
       "      <th>pdf_urls</th>\n",
       "      <th>save_path</th>\n",
       "      <th>non_table_text</th>\n",
       "      <th>table_dict</th>\n",
       "      <th>table_data</th>\n",
       "      <th>non_table_data</th>\n",
       "    </tr>\n",
       "  </thead>\n",
       "  <tbody>\n",
       "    <tr>\n",
       "      <th>0</th>\n",
       "      <td>0</td>\n",
       "      <td></td>\n",
       "      <td></td>\n",
       "      <td>4286514 सचू ी  . २ दुयम िनबंधक :सह दु.िन. अं...</td>\n",
       "      <td>{'(1)दतऐवज कार': 'िवकसनकरारनामा', '(2)मोबदला...</td>\n",
       "      <td>{'(1)Substitute type': 'Development agreement'...</td>\n",
       "      <td>4286514 list . 2 Second Director: Co-Dr. Andhe...</td>\n",
       "    </tr>\n",
       "  </tbody>\n",
       "</table>\n",
       "</div>"
      ],
      "text/plain": [
       "  sl_no pdf_urls save_path                                     non_table_text  \\\n",
       "0     0                     4286514 सचू ी  . २ दुयम िनबंधक :सह दु.िन. अं...   \n",
       "\n",
       "                                          table_dict  \\\n",
       "0  {'(1)दतऐवज कार': 'िवकसनकरारनामा', '(2)मोबदला...   \n",
       "\n",
       "                                          table_data  \\\n",
       "0  {'(1)Substitute type': 'Development agreement'...   \n",
       "\n",
       "                                      non_table_data  \n",
       "0  4286514 list . 2 Second Director: Co-Dr. Andhe...  "
      ]
     },
     "execution_count": 125,
     "metadata": {},
     "output_type": "execute_result"
    }
   ],
   "source": [
    "extracted_df_2"
   ]
  },
  {
   "cell_type": "code",
   "execution_count": null,
   "metadata": {},
   "outputs": [],
   "source": []
  }
 ],
 "metadata": {
  "kernelspec": {
   "display_name": "base",
   "language": "python",
   "name": "python3"
  },
  "language_info": {
   "codemirror_mode": {
    "name": "ipython",
    "version": 3
   },
   "file_extension": ".py",
   "mimetype": "text/x-python",
   "name": "python",
   "nbconvert_exporter": "python",
   "pygments_lexer": "ipython3",
   "version": "3.10.9"
  }
 },
 "nbformat": 4,
 "nbformat_minor": 2
}
